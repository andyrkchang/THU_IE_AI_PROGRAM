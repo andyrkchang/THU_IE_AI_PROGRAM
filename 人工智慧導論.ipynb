{
  "nbformat": 4,
  "nbformat_minor": 0,
  "metadata": {
    "colab": {
      "name": "人工智慧導論.ipynb",
      "provenance": [],
      "collapsed_sections": [
        "U52YpPXClftu",
        "5pvwCexxmIa8",
        "vOWzL0D_oFcr",
        "4qM81FYMoL2k",
        "M-QxsrU-mPtW",
        "ZW737al5l1DY",
        "KZmLGE88QNNY",
        "MRxKI7ZhrIn2",
        "K5ATANWlQxkx",
        "2OT7NcADQ4I_",
        "KG6skQFzRCKp",
        "X1j7WIfXrXHp",
        "prmGvPE84Wpa",
        "Dj5u88P5rXMP",
        "1y-qxCcasEC6",
        "haOyc6DTs13_",
        "cpOt0oxX4k9K",
        "04juoRTH44uq",
        "dipVAvpQ5FAQ",
        "sIga-hAMthyU",
        "Hi14iiwpuaJ_",
        "ppNNccdxuoNH",
        "jR9FbB4yu8sY",
        "G2G_32-FvC3V",
        "u5-SQNY6_zzd",
        "Rre4Vp8I_6Pt",
        "TvsEJ3TBADEV",
        "PLcWx4KfBGLg",
        "rJ4yJmju8Qo-",
        "biF0pcZUDNaU",
        "L5rr1n8uCfMq",
        "JZBBLToADb8f",
        "XEK1lowtE0-w",
        "QSY8V27Vpacs",
        "upVYgMrI9eGm",
        "qGUkp-fp9BHa",
        "46yxlzXy9RUf",
        "VAb2cDu0pkdz",
        "Mlhi2RGX-4ve",
        "FfL-Uy4eAW__",
        "y4Tk7j6lAXXj",
        "5p7NA3DiMdjn",
        "RWVAR_z4MYtA",
        "X99KMcG0MVlJ",
        "ouQp47OYMQ0F",
        "J4pXxKm4DUQt",
        "MgKG4ucJ0Wej",
        "55jrtzpuPGqJ",
        "2nNFGj0cf1v6",
        "wubMVRabf8Ms",
        "gxEEZnphgIq9",
        "zSo9GTAYgN7L",
        "75riqM7FT_36",
        "lN9Z8J1oR_BY",
        "4GBG3_8MgRQ9",
        "XQfWsBp2ecCG",
        "X92fs3ajUUh2",
        "gb9Btyr19KM5",
        "qA0AabuZ9CZp",
        "1-dJGxSk85O1",
        "jkGEU08f8zQv",
        "I8qs_w_WKPXe",
        "Kezt8w8xok17",
        "luqkfdxK-Gbr",
        "vQWvFIktr3nk",
        "ROcRPYz-bmsm",
        "vGfuVmOhHD4W"
      ],
      "authorship_tag": "ABX9TyO9RF8Z0k4kWcjughDyaInU",
      "include_colab_link": true
    },
    "kernelspec": {
      "name": "python3",
      "display_name": "Python 3"
    }
  },
  "cells": [
    {
      "cell_type": "markdown",
      "metadata": {
        "id": "view-in-github",
        "colab_type": "text"
      },
      "source": [
        "<a href=\"https://colab.research.google.com/github/andyrkchang/THU_IE_AI_PROGRAM/blob/master/%E4%BA%BA%E5%B7%A5%E6%99%BA%E6%85%A7%E5%B0%8E%E8%AB%96.ipynb\" target=\"_parent\"><img src=\"https://colab.research.google.com/assets/colab-badge.svg\" alt=\"Open In Colab\"/></a>"
      ]
    },
    {
      "cell_type": "markdown",
      "metadata": {
        "id": "U52YpPXClftu",
        "colab_type": "text"
      },
      "source": [
        "\n",
        "# **<font color=\"DARKSLATEBLUE\">@ 人工智慧導論 @</font>**\n",
        "\n",
        "---\n",
        "@ 人工智慧導論 @\n",
        "\n",
        "    - Author : THU_IE / Andy RK Chang\n",
        "    - Create Date : 2020/05/01\n",
        "    - Revised Record :\n",
        "        . 2020/05/01 Initial outline and Chapter 0 practice environment introduction\n",
        "        . 2020/05/26 add Chapter 3 Machine Learning Introduction\n",
        "        . 2020/05/29 revise the article structure\n",
        "        - 2020/05/31 add Chapter 5、深度學習簡介 (Deep Learning Introduction)\n",
        "\n",
        "        \n"
      ]
    },
    {
      "cell_type": "markdown",
      "metadata": {
        "id": "mYkjN8A_llqT",
        "colab_type": "text"
      },
      "source": [
        "\n",
        "[Reference :](https://hackmd.io/@cube/SkyvXYTqN)\n",
        "部份範例來源\n",
        "\n",
        "[成為python數據分析達人的第一課(自學課程)](http://moocs.nccu.edu.tw/course/123/intro)\n",
        "\n",
        "教育部中小學人工智慧教育教學示範例系列-和AI做朋友，從0開始學AI \n",
        "\n",
        "All the picture source, please refer to the URL link and thanks all the reference web site authors\n",
        "\n"
      ]
    },
    {
      "cell_type": "markdown",
      "metadata": {
        "id": "5pvwCexxmIa8",
        "colab_type": "text"
      },
      "source": [
        "# <font color=\"DARKSLATEBLUE\">**Chapter 0、練習環境**</font>\n",
        "\n",
        "---\n",
        "Chapter 0、練習環境"
      ]
    },
    {
      "cell_type": "markdown",
      "metadata": {
        "id": "vOWzL0D_oFcr",
        "colab_type": "text"
      },
      "source": [
        "### <img src=\"https://hackintos.com/wp-content/uploads/2020/04/Google-drive-Colab-770x433.jpg\" width=\"10%\"/> **. Google Colaboratory .** "
      ]
    },
    {
      "cell_type": "markdown",
      "metadata": {
        "id": "ebOt9GrGn3gk",
        "colab_type": "text"
      },
      "source": [
        "[. Google Colab Operation Manual](  https://colab.research.google.com/notebooks/intro.ipynb) : Colaboratory, or \"Colab\" for short, allows you to write and execute Python in your browser, with\n",
        "\n",
        "    (1) Zero configuration required, (2) Free access to GPUs, (3) Easy sharing\n",
        "\n",
        "  . Cloud Service : use your google drive account\n",
        "  \n",
        "  . GPU & TPU 加速 : Runtime / Change runtine type / Hardware accelerator / GPU\n",
        "\n",
        "  . Google Colab : 學習歷程檔案筆記 \n",
        "\n"
      ]
    },
    {
      "cell_type": "markdown",
      "metadata": {
        "id": "4qM81FYMoL2k",
        "colab_type": "text"
      },
      "source": [
        "### <img src=\"https://simpleanalytical.com/images/anaconda-logo2.png\" width=\"15%\"/> **. Anaconda .** "
      ]
    },
    {
      "cell_type": "markdown",
      "metadata": {
        "id": "DIQ2qIcvmPqO",
        "colab_type": "text"
      },
      "source": [
        "[.Anaconda :](https://www.anaconda.com/) Anaconda was built by data scientists, for data scientists. More than 20 million people use our technology to solve the toughest problems.\n",
        "\n",
        ". Desktop : Indivial Edition\n",
        "\n",
        ". Jupyter Notebook : 學習歷程檔案筆記\n",
        "\n",
        ". 相關套件\n",
        "\n",
        "    Scikit-learn\n",
        "    建立於 NumPy, SciPy 之上的 Python 機器學習套件，內建許多常見的機器學習演算法 。\n",
        "    Pandas\n",
        "    Matplotlib\n",
        "    openAI gym\n",
        "    TensorFlow\n",
        "    Keras\n",
        "    pytorch\n",
        "\n"
      ]
    },
    {
      "cell_type": "markdown",
      "metadata": {
        "id": "M-QxsrU-mPtW",
        "colab_type": "text"
      },
      "source": [
        "# **<font color=\"DARKSLATEBLUE\">Chapter 1、 大數據 (Big Data)</font>**\n",
        "\n",
        "---\n",
        "Chapter 1、 大數據 (Big Data)\n",
        "\n",
        "<img src=\"https://www.exltech.in/assets/img/courses/big_data_hadoop.jpg\" alt=\"alt\" width=\"50%\"/>\n"
      ]
    },
    {
      "cell_type": "markdown",
      "metadata": {
        "id": "TV0Xafa3MsJz",
        "colab_type": "text"
      },
      "source": [
        ""
      ]
    },
    {
      "cell_type": "markdown",
      "metadata": {
        "id": "ZW737al5l1DY",
        "colab_type": "text"
      },
      "source": [
        "# **<font color=\"DARKSLATEBLUE\">Chapter 2、 人工智慧 (Artificial Intelligence, AI)</font>**\n",
        "\n",
        "---\n",
        "Chapter 2、 人工智慧 (Artificial Intelligence, AI)\n",
        "\n",
        "<img src=\"https://i.imgur.com/SHtuGvu.png\" alt=\"alt\" width=\"50%\"/>\n",
        "\n"
      ]
    },
    {
      "cell_type": "markdown",
      "metadata": {
        "id": "KZmLGE88QNNY",
        "colab_type": "text"
      },
      "source": [
        "## **2.1 人工智慧 AI 發展史**"
      ]
    },
    {
      "cell_type": "markdown",
      "metadata": {
        "id": "ViVrqnBEpv9l",
        "colab_type": "text"
      },
      "source": [
        "<img src=\"https://dahetalk.files.wordpress.com/2018/04/e4babae5b7a5e699bae685a7aie799bce5b195e58fb2.png?w=1024\" width=\"60%\"/>"
      ]
    },
    {
      "cell_type": "markdown",
      "metadata": {
        "id": "14LxCm-oPORH",
        "colab_type": "text"
      },
      "source": [
        "**第一次AI浪潮**\n",
        "\n",
        "- 第一次AI浪潮起於1950～1960年，止於1980年代。由於出現在網路之前，因此又被稱為「古典人工智慧」。這時期出現的「符號主義」與「聯結主義」，分別是日後「專家系統」與「深度學習」的雛形。只不過，雖然當時的成果已能解開拼圖或簡單的遊戲，卻幾乎無法解決實用的問題。\n",
        "\n",
        "**第二次AI浪潮**\n",
        "\n",
        "- 第二次AI熱潮伴隨著電腦的普及，出現在1980年代。這時期所進行的研究，是以灌輸「專家知識」作為規則，來協助解決特定問題的「專家系統」（Expert system）為主。然而，縱使當時有商業應用的實例，應用範疇卻很有限，熱潮也因此逐漸消退。\n",
        "\n",
        "**第三次AI浪潮**\n",
        "\n",
        "- 第三次AI浪潮則出現於2010年代，伴隨著高性能電腦、網際網路、大數據、感測器的普及，以及計算成本的下降，「機器學習」隨之興起。所謂機器學習（Machine leaning），是指讓電腦大量學習資料，使它可以像人類一樣辨識聲音及影像，或是針對問題做出合適的判斷。"
      ]
    },
    {
      "cell_type": "markdown",
      "metadata": {
        "id": "MRxKI7ZhrIn2",
        "colab_type": "text"
      },
      "source": [
        "# **<font color=\"DARKSLATEBLUE\">Chapter 3、 機器學習簡介 (Machine Learning Introduction)</font>**\n",
        "\n",
        "---\n",
        "Chapter 3、 機器學習簡介 (Machine Learning Introduction)\n",
        "\n",
        "<img src=\"https://res.cloudinary.com/springboard-images/image/upload/q_auto,f_auto,fl_lossy/wordpress/2019/07/sb-blog-what-is-mle.png\" alt=\"alt\" width=\"50%\"/>\n"
      ]
    },
    {
      "cell_type": "markdown",
      "metadata": {
        "id": "K5ATANWlQxkx",
        "colab_type": "text"
      },
      "source": [
        "## **What's Machine Learning**"
      ]
    },
    {
      "cell_type": "markdown",
      "metadata": {
        "id": "NK_-SYjIY5vs",
        "colab_type": "text"
      },
      "source": [
        "**3.1。What's Machine Learning**\n",
        "\n",
        "---\n",
        "\n",
        "\n",
        "\n",
        "Predict Model f(x) ==> to predict y\n",
        "\n",
        "- 聲音翻譯為文字 f( <img src=\"https://data.photo-ac.com/data/thumbnails/11/114a06b02f38d240a819db74ec557331_t.jpeg\" alt=\"alt\" width=\"10%\"/> ) ===> \"How are you\" \n",
        "\n",
        "- 文字翻譯為聲音 f( \"How are you\" ) ===> <img src=\"https://data.photo-ac.com/data/thumbnails/11/114a06b02f38d240a819db74ec557331_t.jpeg\" alt=\"alt\" width=\"10%\"/>\n",
        "\n",
        "\n",
        "- 影像辨識 f( <img src=\"https://upload.wikimedia.org/wikipedia/commons/thumb/3/3a/Cat03.jpg/440px-Cat03.jpg\" alt=\"alt\" width=\"10%\"/>  ) ===> 'CAT'\n",
        "\n",
        "- 文章判讀 f( <img src=\"https://images.freeimages.com/images/premium/previews/6045/60459606-past-articles-icon.jpg\" alt=\"alt\" width=\"10%\"/> ) ===> 'SPORTS'\n",
        "\n",
        "\n",
        "- 對話 f( \"How Are You\" ) ==> \"I am fine, Thank You !\"\n",
        "\n"
      ]
    },
    {
      "cell_type": "markdown",
      "metadata": {
        "id": "2OT7NcADQ4I_",
        "colab_type": "text"
      },
      "source": [
        "## **3.2 Machine Learning Types**"
      ]
    },
    {
      "cell_type": "markdown",
      "metadata": {
        "id": "v8tJ0W5mrW9W",
        "colab_type": "text"
      },
      "source": [
        "**3.2。Machine Learning Types**\n",
        "\n",
        "---\n",
        "\n",
        "\n",
        "<img src = \"https://miro.medium.com/max/1204/0*-068ud_-o3ajwq_z.jpg\" alt=\"alt\" width=\"50%\" />"
      ]
    },
    {
      "cell_type": "markdown",
      "metadata": {
        "id": "VcUh-hvw6P0A",
        "colab_type": "text"
      },
      "source": [
        "**3.2.1 監督式學習 (Supervisor Learning)**\n",
        "\n",
        "---\n",
        "\n",
        "\n",
        "\n",
        "透過給定已標記 (籤) Label or Annotation 的訓練資料來教導機器學習模型，例如：類神經路。監督式學習的應用非常的廣泛，除了回歸、分類外，還有目標檢測 (Object Detection)、影像分割 (Image Segmentation)、和語音識別 (Speech Recognition) 等。\n",
        "     \n",
        "\n",
        "★常見的監督式學習方法：\n",
        "\n",
        "    。最鄰近法 (K-nearest Neighthors, KNN)\n",
        "    。決策樹 (Decision Treem, DT) 和隨機深林 (Random Forests, RF)\n",
        "    。支持向量機 (Support Vector Machines, SVM) \n",
        "    。Boosting, XGBoosting, CatBoosting, ...\n",
        "    。深度神經網路 (Deep Neural Network, DNN)"
      ]
    },
    {
      "cell_type": "markdown",
      "metadata": {
        "id": "T_5nLPKK8GeR",
        "colab_type": "text"
      },
      "source": [
        "**3.2.2 非監督式學習 (Unsupervisor Learning)**\n",
        "\n",
        "---\n",
        "\n",
        "\n",
        "\n",
        "只有訓練資料，沒有訓練標籤，常見的任務如聚類 (clustering) 和降維 (dimensionality reduction)。聚類：量測資料之間的相似度，將性質相同的特徵會聚一起，來達成自動分群。例如：Google 新圍每天都會收集來自全世界的新聞，然後將新聞自東分成十幾群，例如：國際、商業、運動、科技等等)。降維：保持資料的結構與特徵，將資料簡化。\n",
        "\n",
        "★常見的非監督式學習方法：\n",
        "\n",
        "- Clustering\n",
        "\n",
        "    。k-平均演算法 (k-means)\n",
        "\n",
        "    。分級聚類法 (Hierachical Cluster Analysis, HCA) \n",
        "\n",
        "- Dimensionality Reduction\n",
        "\n",
        "    。主成分分析 (Principle Component Analysis, PCA)\n",
        "\n",
        "    。核主成分分析 (kernel PCA)\n",
        "    \n",
        "    。自編碼 (Autoencoder)\n",
        "\n"
      ]
    },
    {
      "cell_type": "markdown",
      "metadata": {
        "id": "X-8k63CcAWET",
        "colab_type": "text"
      },
      "source": [
        "**3.2.3 強化式學習 (Reinforcement Learning)**\n",
        "\n",
        "---\n",
        "\n",
        "\n",
        "\n",
        "[RL Introduction : ](https://www.slideshare.net/yenlung/reinforcement-learning-90737484)\n",
        "\n",
        "[李宏毅老師 RL PPT網址](http://speech.ee.ntu.edu.tw/~tlkagk/courses/ML_2017/Lecture/RL%20(v4).pdf)\n",
        "[ / 解說](https://medium.com/change-the-world-with-technology/%E6%9D%8E%E5%AE%8F%E6%AF%85%E8%80%81%E5%B8%AB-deep-reinforcement-learning-2017-spring-%E7%AD%86%E8%A8%98-3784ddb23e0)\n",
        "\n",
        "<img src= \"https://miro.medium.com/max/1400/0*5dzxvNCfwmFRmvkp.jpg\" alt=\"alt\" weigth=\"5%\">"
      ]
    },
    {
      "cell_type": "markdown",
      "metadata": {
        "id": "8oh-lR1M1xbT",
        "colab_type": "text"
      },
      "source": [
        "強化學習中，學習代理人 (Agent) 根據收到環境的狀態 (State) 做出最佳的決策與動作，執行動作 (Action) 後，會到達下一個狀態並獲得獎勵 (Reward)。例如，打方塊遊戲中，將方塊清除能得到獎勵；反之，如果死掉的話，則會得到懲罰，而強化學習的宗旨為在一連串的決策過程中最大化期望獎勵 (Expect Reward)\n",
        "\n",
        "強化學習可以應用於 <font color=\"blue\">**行為決策與趨勢預估**<font/>"
      ]
    },
    {
      "cell_type": "markdown",
      "metadata": {
        "id": "_KzxQCOwO2rw",
        "colab_type": "text"
      },
      "source": [
        "**★ 強化學習四元素**\n",
        "\n",
        "    - 策略（Policy）：環境的感知狀態 (state) 到行動 (action) 的映射方式。\n",
        "    - 獎勵（Reward）：環境對智能體行動的反饋獎勵。\n",
        "    - 價值函數（Value Function）：評估狀態的價值函數，狀態的價值即從當前狀態開始，期望在未來獲得的獎賞。\n",
        "    - 環境模型（Model）：模擬環境的行為。\n",
        "\n",
        "**★ 強化學習的特點**\n",
        "\n",
        "    - 起源於動物學習心理學的試錯法（trial-and-error），因此符合行為心理學。\n",
        "    - 尋求探索（exploration）和采用（exploitation）之間的權衡：\n",
        "      強化學習一面要采用（exploitation）已經發現的有效行動，另一方面也要探索（exploration）那些沒有被認可的行動，已找到更好的解決方案。\n",
        "    - 考慮整個問題而不是子問題。\n",
        "    - 通用AI解決方案。"
      ]
    },
    {
      "cell_type": "markdown",
      "metadata": {
        "id": "KG6skQFzRCKp",
        "colab_type": "text"
      },
      "source": [
        "## **3.3 Machine Learning Procedure**"
      ]
    },
    {
      "cell_type": "markdown",
      "metadata": {
        "id": "z-K6sDAB3UnY",
        "colab_type": "text"
      },
      "source": [
        "**3.3。Machine Learning Training Procedure**\n",
        "\n",
        "---\n",
        "\n",
        "\n",
        "\n",
        "★ ML的訓練過程，以監督式學習為例說明：\n",
        "\n",
        "---\n",
        "<style>\n",
        ".mytable td{\n",
        "  font-size:24px;\n",
        "}\n",
        "</style>\n",
        "<table class=\"mytable\">\n",
        "<thead>\n",
        "<tr>\n",
        "<th>步驟</th>\n",
        "<th>階段</th>\n",
        "<th>作業項目</th>\n",
        "<th>簡介 (以監督式學習為例)</th>\n",
        "</tr>\n",
        "</thead>\n",
        "<tbody>\n",
        "<tr>\n",
        "<td> 1 </td>\n",
        "<td>(<code>訓練前</code>)</td>\n",
        "<td>定義問題與目標</td>\n",
        "<td>你想要解決的問題是甚麼? 目前人無法解決的問題，機器一定無解。</td>\n",
        "</tr>\n",
        "<tr>\n",
        "<td> 2 </td>\n",
        "<td>(<code>訓練前</code>)</td>\n",
        "<td>決定資料集與分析資料</td>\n",
        "<td>你想要預測的是什麼資料? 這邊需要先知道 <code>example</code>、<code>label</code>、<code>features</code>的概念。。</td>\n",
        "</tr>\n",
        "<tr>\n",
        "<td> 3 </td>\n",
        "<td>(<code>訓練前</code>)</td>\n",
        "<td>準備訓練資料集</td>\n",
        "<td>(<code>訓練前</code>) 依據「模型測試」的方法，決定訓練資料集的方式：訓練用(Training)、驗證用(Validation)、測試用(Test)。</td>\n",
        "</tr>\n",
        "<tr>\n",
        "<td> 4 </td>\n",
        "<td>(<code>訓練前</code>)</td>\n",
        "<td>決定問題種類</td>\n",
        "<td>依據資料，會知道是什麼類型的問題。<code>regression problem(回歸問題)</code>? \t<code>classification problem(分類問題)</code>? </td>\n",
        "</tr>\n",
        "<tr>\n",
        "<td> 5 </td>\n",
        "<td>(<code>訓練前</code>)</td>\n",
        "<td>決定ML模型(ML models)</td>\n",
        "<td>依據問題的種類，會知道需要使用什麼對應的ML模型。<code>回歸模型(Regression model)</code>? <code>分類模型(Classification model)</code>? ，<code>神經網路(neural network)</code>? ></td>\n",
        "</tr>\n",
        "<tr>\n",
        "<td> 6 </td>\n",
        "<td>(<code>訓練前</code>)</td>\n",
        "<td>設定模型裡面的參數</td>\n",
        "<td>ML模型裡面的<code>參數(parameters)</code>與<code>超參數(hyper-parameters)</code> </td>\n",
        "</tr>\n",
        "<tr>\n",
        "<td> 7 </td>\n",
        "<td>(<code>訓練中</code>) 調整模型</td>\n",
        "<td>評估當前模型好壞</td>\n",
        "<td><code>損失函數(Loss Functions)</code>：使用損失函數評估目前模型的好與壞。以<code>MSE(Mean Squared Error)</code>, <code>RMSE(Root Mean Squared Error)</code>, <code>交叉熵(Cross Entropy)</code>為例。</td>\n",
        "</tr>\n",
        "<tr>\n",
        "<td> 8 </td>\n",
        "<td>(<code>訓練中</code>) 調整模型</td>\n",
        "<td>修正模型參數</td>\n",
        "<td>以<code>梯度下降法 (Gradient Descent)</code>為例：決定模型中參數的修正「方向」與「<code>步長(step size)</code>」</td>\n",
        "</tr>\n",
        "<tr>\n",
        "<td> 9 </td>\n",
        "<td>(<code>訓練中</code>) 調整腳步</td>\n",
        "<td>調整學習腳步</td>\n",
        "<td>透過<code>學習速率(learning rate)</code>來調整ML模型訓練的<code>步長(step size)</code>，調整學習腳步。(此參數在<code>訓練前</code>設定，為<code>hyper-parameter</code>)。</td>\n",
        "</tr>\n",
        "<tr>\n",
        "<td> 10 </td>\n",
        "<td>(<code>訓練中</code>) 加快訓練</td>\n",
        "<td>取樣與分堆</td>\n",
        "<td>設定<code>batch size</code>，透過<code>batch</code>從訓練目標中取樣，來加快ML模型訓練的速度。(此參數在<code>訓練前</code>設定，為<code>hyper-parameter</code>)。與<code>迭代(iteration)</code>,<code>epoch</code>介紹。</td>\n",
        "</tr>\n",
        "<tr>\n",
        "<td> 11 </td>\n",
        "<td>(<code>訓練中</code>) 加快訓練</td>\n",
        "<td>檢查loss的頻率</td>\n",
        "<td>調整「檢查loss的頻率」，依據<code>時間(Time-based)</code>與<code>步驟(Step-based)</code>。此處可參考：</td>\n",
        "</tr>\n",
        "<tr>\n",
        "<td> 12 </td>\n",
        "<td>(<code>訓練中</code>) 完成訓練</td>\n",
        "<td>(loop) -&gt; 完成</td>\n",
        "<td>重覆過程(評估當前模型好壞 -&gt; 修正模型參數)，直到能<code>通過「驗證資料集(Validation)」的驗證</code>即可結束訓練。</td>\n",
        "</tr>\n",
        "<tr>\n",
        "<td> 13 </td>\n",
        "<td>(<code>訓練後</code>)</td>\n",
        "<td>訓練結果可能問題</td>\n",
        "<td><code>「不適當的最小loss?」</code> </td>\n",
        "</tr>\n",
        "<tr>\n",
        "<td> 14 </td>\n",
        "<td>(<code>訓練後</code>)</td>\n",
        "<td>訓練結果可能問題</td>\n",
        "<td><code>欠擬合(underfitting)</code>?<code>過度擬合(overfitting)</code>? </td>\n",
        "</tr>\n",
        "<tr>\n",
        "<td> 15 </td>\n",
        "<td>(<code>訓練後</code>)</td>\n",
        "<td>評估 - 性能指標</td>\n",
        "<td><code>性能指標(performance metrics)</code>：以<code>混淆矩陣(confusion matrix)</code>分析，包含「<code>Accuracy</code>」、「<code>Precision</code>」、「<code>Recall</code>」三種評估指標。</td>\n",
        "</tr>\n",
        "<tr>\n",
        "<td> 16 </td>\n",
        "<td>(<code>訓練後</code>)</td>\n",
        "<td>評估 - 新資料適用性</td>\n",
        "<td><code>泛化(Generalization)</code>：對於新資料、沒看過的資料的模型適用性。</td>\n",
        "</tr>\n",
        "<tr>\n",
        "<td> 17 </td>\n",
        "<td>(<code>訓練後</code>)</td>\n",
        "<td>評估 - 模型測試</td>\n",
        "<td>使用「<code>獨立測試資料集(Test)</code>」測試? 使用<code>交叉驗證(cross-validation)</code>(又稱<code>bootstrapping</code>)測試? </td>\n",
        "</tr>\n",
        "</tbody>\n",
        "</table>\n",
        "\n"
      ]
    },
    {
      "cell_type": "markdown",
      "metadata": {
        "id": "X1j7WIfXrXHp",
        "colab_type": "text"
      },
      "source": [
        "# **<font color=\"DARKSLATEBLUE\">Chapter 4、 機器學習演算法 (Machine Learning Algorithm)</font>**\n",
        "\n",
        "---\n",
        "Chapter 4、 機器學習演算法 (Machine Learning Algorithm)\n",
        "\n",
        "[ML Task Introduction](https://eleg5491.github.io/ml_basics/)\n",
        "\n",
        "<img src = \"https://eleg5491.github.io/assets/ml/ml_task.png\" alt=\"alt\" width=\"60%\" />"
      ]
    },
    {
      "cell_type": "markdown",
      "metadata": {
        "id": "prmGvPE84Wpa",
        "colab_type": "text"
      },
      "source": [
        "## **4.1 回歸 (Regression)**"
      ]
    },
    {
      "cell_type": "markdown",
      "metadata": {
        "id": "Dj5u88P5rXMP",
        "colab_type": "text"
      },
      "source": [
        "### **1. 線性迴歸(Linear regression)**\n",
        "\n",
        "    。迴歸，監督式學習"
      ]
    },
    {
      "cell_type": "markdown",
      "metadata": {
        "id": "1y-qxCcasEC6",
        "colab_type": "text"
      },
      "source": [
        "#### EX_02_2：使用 Scikit-learn(SKlearn) 實作線性迴歸，將一條線擬合到模擬的（x,y）數據。假設函數為f(x)=1.2x+0.8"
      ]
    },
    {
      "cell_type": "code",
      "metadata": {
        "id": "ACQO4fz_mAE9",
        "colab_type": "code",
        "outputId": "ab1dc138-e7cd-43a2-a3c0-b0bdf11b9578",
        "colab": {
          "base_uri": "https://localhost:8080/",
          "height": 265
        }
      },
      "source": [
        "#%matplotlib inline           # 使用Jupyter Notebook時，讓圖直接呈現在網頁上，Google Colab不用\n",
        "from sklearn.linear_model import LinearRegression\n",
        "import numpy as np \n",
        "import matplotlib.pyplot as plt\n",
        "\n",
        "#1. 產生模擬資料\n",
        "x = np.linspace(0, 5, 50)    # 取0~5間，均勻的取50個點\n",
        "y = 1.2*x + 0.8 + np.random.randn(50) # randn(50)產生50個常態分布的亂數(平均值0，標準差1)，增加noise\n",
        "plt.scatter(x, y)            # scatter產生散點圖\n",
        "plt.plot(x,1.2*x+0.8,'r')    # 畫出原本的完美函數\n",
        "\n",
        "#2. 用線性迴歸做預測\n",
        "X=x.reshape(50,1)            # x為[x1,x2,....,x50](1x50的陣列)，但SKlearn需要[[x1],[x2],....,[x50]](50x1的陣列)\n",
        "regr = LinearRegression()    # 初始化線性迴歸模組\n",
        "regr.fit(X,y)                # 讓線性迴歸模組學習，模組的變數名稱.fit(輸入資料，正確答案)\n",
        "y_predicted=regr.predict(X)  # y_predicted為線性迴歸模組預測的結果\n",
        "\n",
        "plt.scatter(x,y)\n",
        "plt.plot(x,y_predicted,'b')  # 藍線畫出預測的結果\n",
        "plt.show()                   # Google Colab不用"
      ],
      "execution_count": 0,
      "outputs": [
        {
          "output_type": "display_data",
          "data": {
            "image/png": "[encoded data removed]",
            "text/plain": [
              "<Figure size 432x288 with 1 Axes>"
            ]
          },
          "metadata": {
            "tags": [],
            "needs_background": "light"
          }
        }
      ]
    },
    {
      "cell_type": "markdown",
      "metadata": {
        "id": "haOyc6DTs13_",
        "colab_type": "text"
      },
      "source": [
        "#### EX_02_3：Scikit-learn(SKlearn) 內建一些真實世界的數據，以線性迴歸預測波士頓房價。"
      ]
    },
    {
      "cell_type": "code",
      "metadata": {
        "id": "7FUe2uaSmAws",
        "colab_type": "code",
        "colab": {}
      },
      "source": [
        "import matplotlib.pyplot as plt\n",
        "from sklearn.linear_model import LinearRegression\n",
        "from sklearn.model_selection import train_test_split\n",
        "from sklearn.datasets import load_boston\n",
        "\n",
        "#1. 讀入boston房價資料\n",
        "boston = load_boston()\n",
        "boston.feature_names    # 顯示數據中所有的 features\n",
        "print(boston.DESCR)     # 解釋數據內容\n",
        "print(len(boston.data)) # 資料筆數\n",
        "\n",
        "#2. 切分訓練與測試資料\n",
        "x_train, x_test, y_train, y_test = train_test_split(boston.data, boston.target, test_size=0.3)\n",
        "# x_train.shape\n",
        "\n",
        "#3. 用線性迴歸做預測\n",
        "#........                # 初始化線性迴歸模組\n",
        "#........                # 讓線性迴歸模組學習，模組的變數名稱.fit(輸入資料，正確答案)\n",
        "#........                # y_test_predicted=模組的變數名稱.predicted(要預測的資料)，y_test_predicted為線性迴歸模組預測的結果\n",
        "\n",
        "#4. 畫出真實價格與預測價格\n",
        "plt.scatter(y_test, y_test_predicted)\n",
        "plt.xlabel('True Price')\n",
        "plt.ylabel('Predicted Price')\n",
        "plt.plot([0,50],[0,50],'r') # 如果預測正確，點會落在對角線上\n",
        "\n",
        "#5. 畫出個別參數和房價關係\n",
        "plt.figure(figsize=(8,10)) # 單位為英吋\n",
        "for i, feature in enumerate(boston.feature_names):\n",
        "    plt.subplot(5, 3, i+1)\n",
        "    plt.scatter(boston.data[:,i], boston.target, s=1)\n",
        "    plt.ylabel('price')\n",
        "    plt.xlabel(feature)\n",
        "    plt.tight_layout() # 自動調整繪圖區的大小及間距，使繪圖區、標題、坐標軸標籤等都可"
      ],
      "execution_count": 0,
      "outputs": []
    },
    {
      "cell_type": "code",
      "metadata": {
        "id": "U2DNV6CNmA4b",
        "colab_type": "code",
        "colab": {}
      },
      "source": [
        ""
      ],
      "execution_count": 0,
      "outputs": []
    },
    {
      "cell_type": "markdown",
      "metadata": {
        "id": "cpOt0oxX4k9K",
        "colab_type": "text"
      },
      "source": [
        "## **4.2 分類 (Classification)**"
      ]
    },
    {
      "cell_type": "markdown",
      "metadata": {
        "id": "04juoRTH44uq",
        "colab_type": "text"
      },
      "source": [
        "### **4.2.1 二元分類問題**"
      ]
    },
    {
      "cell_type": "markdown",
      "metadata": {
        "id": "Ad6eJte65CcP",
        "colab_type": "text"
      },
      "source": [
        ""
      ]
    },
    {
      "cell_type": "markdown",
      "metadata": {
        "id": "dipVAvpQ5FAQ",
        "colab_type": "text"
      },
      "source": [
        "### **4.2.2 多元分類問題**"
      ]
    },
    {
      "cell_type": "markdown",
      "metadata": {
        "id": "sIga-hAMthyU",
        "colab_type": "text"
      },
      "source": [
        "#### **2. KNN(K Nearest Neighbor，K最近鄰居法)**\n",
        "\n",
        "    。分類，監督式學習"
      ]
    },
    {
      "cell_type": "markdown",
      "metadata": {
        "id": "Hi14iiwpuaJ_",
        "colab_type": "text"
      },
      "source": [
        "##### EX_03_2：使用 Scikit-learn(SKlearn) 實作 KNN ，將鳶尾花卉Iris資料集(欄位說明)分類並預測。"
      ]
    },
    {
      "cell_type": "code",
      "metadata": {
        "id": "vMlbwtM7uScX",
        "colab_type": "code",
        "colab": {}
      },
      "source": [
        "from sklearn.datasets import load_iris\n",
        "from sklearn.model_selection import train_test_split\n",
        "from sklearn.neighbors import KNeighborsClassifier\n",
        "from sklearn.metrics import accuracy_score\n",
        "\n",
        "#1. 讀入鳶尾花資料\n",
        "iris = load_iris()\n",
        "\n",
        "#2. 切分訓練與測試資料\n",
        "x_train, x_test, y_train, y_test = train_test_split(iris.data, iris.target, test_size = 0.3, random_state=50)\n",
        "# x_train.shape\n",
        "\n",
        "#3. 初始化 knn 分類模組\n",
        "knn = KNeighborsClassifier()\n",
        "iris_knn=knn.fit(x_train,y_train)\n",
        "\n",
        "#4. 預測\n",
        "y_test_predicted = iris_knn.predict(x_test)\n",
        "print(y_test_predicted)                         # 預測的分類\n",
        "print(y_test)                                   # 標準答案的分類\n",
        "print(accuracy_score(y_test, y_test_predicted)) # 正確率"
      ],
      "execution_count": 0,
      "outputs": []
    },
    {
      "cell_type": "markdown",
      "metadata": {
        "id": "ppNNccdxuoNH",
        "colab_type": "text"
      },
      "source": [
        "##### EX_03_3：探討EX_03_2使用不同k值，對預測正確率的影響。\n",
        "( K值過小會降低分類的精確度。K值越大，對於異常值越不敏感，但也會使類別之間的界限變得模糊 )"
      ]
    },
    {
      "cell_type": "code",
      "metadata": {
        "id": "ZmQyg4RIus7I",
        "colab_type": "code",
        "colab": {}
      },
      "source": [
        "from sklearn.datasets import load_iris\n",
        "from sklearn import neighbors\n",
        "from sklearn.model_selection import train_test_split\n",
        "from sklearn.metrics import accuracy_score\n",
        "import numpy as np\n",
        "import matplotlib.pyplot as plt\n",
        "\n",
        "#1. 讀入鳶尾花資料\n",
        "iris = load_iris()\n",
        "\n",
        "#2. 切分訓練與測試資料\n",
        "x_train, x_test, y_train, y_test = train_test_split(iris.data, iris.target, test_size = 0.3, random_state=50)\n",
        "\n",
        "#3. 設定 k 的範圍(先設上限為訓練樣本數的20%)，試試看調至50%以上時的準確率\n",
        "range = np.arange(1, round(0.2 * x_train.shape[0]) + 1)    # x_train.shape為(105, 4)\n",
        "\n",
        "#4. 嘗試用不同的 k，建立 knn 分類模組，並求其預測的準確率\n",
        "accuracies = []\n",
        "for k in range:\n",
        "    ........                     # 初始化 knn 分類模組，n_neighbors = ？為參數\n",
        "    ........                     # 讓分類模組學習，模組的變數名稱.fit(輸入資料，正確答案)\n",
        "    ........                     # 預測 x_test 資料\n",
        "    acc = accuracy_score(y_test, y_test_predicted) # 正確率\n",
        "    accuracies.append(acc)\n",
        "\n",
        "#5. 不同 k 對準確率的分佈圖\n",
        "plt.scatter(range, accuracies)"
      ],
      "execution_count": 0,
      "outputs": []
    },
    {
      "cell_type": "markdown",
      "metadata": {
        "id": "6b436soiuSzr",
        "colab_type": "text"
      },
      "source": [
        ""
      ]
    },
    {
      "cell_type": "markdown",
      "metadata": {
        "id": "jR9FbB4yu8sY",
        "colab_type": "text"
      },
      "source": [
        "#### **3. 決策樹(Decision trees)**\n",
        "\n",
        "    。分類，監督式學習"
      ]
    },
    {
      "cell_type": "markdown",
      "metadata": {
        "id": "G2G_32-FvC3V",
        "colab_type": "text"
      },
      "source": [
        "##### EX_04_3：使用 Scikit-learn(SKlearn) 實作決策樹，將鳶尾花卉Iris資料集(欄位說明)分類並預測。"
      ]
    },
    {
      "cell_type": "code",
      "metadata": {
        "id": "dHci05BOvRnY",
        "colab_type": "code",
        "colab": {}
      },
      "source": [
        "from sklearn.datasets import load_iris\n",
        "from sklearn import tree\n",
        "from sklearn.model_selection import train_test_split\n",
        "from sklearn.metrics import accuracy_score\n",
        "\n",
        "#1. 讀入鳶尾花資料\n",
        "iris = load_iris() \n",
        "# print(iris.data) 150個樣本，每個樣本4個特徵\n",
        "# print(iris.target)\n",
        "\n",
        "#2. 切分訓練與測試資料\n",
        "x_train, x_test, y_train, y_test = train_test_split(iris.data, iris.target, test_size = 0.3)\n",
        "\n",
        "#3. 建立決策樹分類模組\n",
        "........\n",
        "........\n",
        "\n",
        "#4. 預測\n",
        "y_test_predicted = iris_dtree.predict(x_test)\n",
        "print(y_test_predicted)                         # 預測的分類\n",
        "print(y_test)                                   # 標準答案的分類\n",
        "print(accuracy_score(y_test, y_test_predicted)) # 正確率"
      ],
      "execution_count": 0,
      "outputs": []
    },
    {
      "cell_type": "code",
      "metadata": {
        "id": "a47UNHiGvUcG",
        "colab_type": "code",
        "colab": {}
      },
      "source": [
        "import pydotplus\n",
        "from IPython.display import Image\n",
        "\n",
        "#5. 畫出決策樹\n",
        "dot_data = tree.export_graphviz(dtree, out_file=None, \n",
        "                feature_names=iris.feature_names,  \n",
        "                class_names=iris.target_names,  \n",
        "                filled=True, rounded=True, special_characters=True)\n",
        "graph = pydotplus.graph_from_dot_data(dot_data)  \n",
        "Image(graph.create_png()) # gini屬性用於測量節點的純度，如果一個節點包含的都是同一類，此節點gini=0"
      ],
      "execution_count": 0,
      "outputs": []
    },
    {
      "cell_type": "markdown",
      "metadata": {
        "id": "PPXLZVqqCwKD",
        "colab_type": "text"
      },
      "source": [
        "# **<font color=\"DARKSLATEBLUE\">Chapter 5、深度學習簡介 (Deep Learning Introduction)</font>**\n",
        "\n",
        "---\n",
        "Chapter 5、深度學習簡介 (Deep Learning Introduction)\n"
      ]
    },
    {
      "cell_type": "markdown",
      "metadata": {
        "id": "u5-SQNY6_zzd",
        "colab_type": "text"
      },
      "source": [
        "## **5.1 類神經網路簡史：**\n",
        "\n",
        "---"
      ]
    },
    {
      "cell_type": "markdown",
      "metadata": {
        "id": "IlrxyVCHC3Jg",
        "colab_type": "text"
      },
      "source": [
        "\n",
        "早在1960及1970年代，就有資訊科學家受到生物神經系統的啟發，提出多層級的類神經網路(Artificial neural network)，希望藉由模擬生物神經系統的方式，使電腦也能達到像人類這樣的高度智能。然而，受限於當時電腦的計算能力，及大量數位資料的取得非常不容易，類神經網路一直沒有帶來很讓人驚豔的效果。\n",
        "\n",
        "**\n",
        "\n",
        "在1980年到2010年這三十年間，雖然類神經網路並沒有突破性的成就，可是在資訊科學家不斷努力之下，開發出許多不同的類神經網路階層、架構和初始化的方式，很多使用在深度學習的架構都是在這個時期就被開發出來的。如\n",
        "\n",
        "    - 卷積神經網路(Convolutional neural network, CNN)、\n",
        "    - 遞歸神經網路(Recurrent neural network, RNN)、\n",
        "    - 受限玻爾茲曼機(Restricted Boltzmann machine, RBM)等，\n",
        "    \n",
        "2000年後，深度學習慢慢開始在影像識別、尤其是手寫數字辨識上嶄露頭角。如美國郵政的手寫郵遞區號辨識。\n",
        "在2012年，深度學習之父 Geoffrey Hinton 的學生用 NVIDA 的 GPU 訓練 8 層的類神經網路 \"AlexNet\"，在當時 ImageNet 影像辨識比賽，以將近 10% 差距拿下冠軍，開啟 GPU 在深度神經網路的應用。此後幾年間，各種各樣的深度學習應用如雨後春筍，除了傳統機器學習的分類(classification)和回歸(regression)等問題，還可以應用在降維(dimensionality reduction)，甚至讓電腦自動產生語句及圖畫等等的應用。\n",
        "\n",
        "<img src=\"https://missinglink.ai/wp-content/uploads/2018/11/networkgraph.png\" width = \"80%\"/>\n"
      ]
    },
    {
      "cell_type": "markdown",
      "metadata": {
        "id": "Rre4Vp8I_6Pt",
        "colab_type": "text"
      },
      "source": [
        "## **5.2 類神經網路原理：**\n",
        "\n",
        "\n",
        "---"
      ]
    },
    {
      "cell_type": "markdown",
      "metadata": {
        "id": "57B23BW-i_G3",
        "colab_type": "text"
      },
      "source": [
        "\n",
        "\n",
        "\n",
        "[Neural Network](http://moonmoonbirdchen.blogspot.com/2017/04/deep-learning-neural-network.html) / [Deep Learning](http://www.cc.ntu.edu.tw/chinese/epaper/0038/20160920_3805.html)\n",
        "\n",
        "類神經網路是一種模仿生物神經系統的數學模型。在類神經網路中，通常會有數個階層，每個階層中會有數十到數百個 **神經元(neuron)**，神經元會將上一層神經元的輸入加總後，進行 **激活函數(Activation function)** 的轉換，當成神經元的輸出。每個神經元會跟下一層的神經元有特殊的連接關係，使上一層神經元的輸出值經過權重計算(weight)後傳遞給下一層的神經元。\n",
        "\n",
        "**\n",
        "\n",
        "為了模擬生物的神經網路，激活函數通常是一種 **非線性的轉換** 。傳統的激活函數為Sigmoid函數或雙曲正切函數(hyperbolic tan, tanh)，但是在深度神經網路中，Sigmoid函數的學習效果比較差，常會使用ReLU函數(Rectified linear unit)。\n",
        "\n",
        "類神經網路的架構指的就是階層數量、每層中的神經元數量、各層之間神經元的連接方式、及激活函數的類型等設定。這些參數設定都是在使用類神經網路前需要由人力設定好的，參數設定的好壞也是大大影響到類神經網路的效能表現。**類神經網路的學習和訓練過程就是試著找到最佳的權重設定。** (圖、類神經網路單一神經元的運作)\n",
        "\n",
        "<img src=\"https://4.bp.blogspot.com/-qftQdQVW2sM/WLGmmJMGtgI/AAAAAAABPJY/9mpZ_Z_uj-UfsWaPfeBw3PNDnDIXt4q7gCLcB/s1600/600px-ArtificialNeuronModel_english.png\" width = 50%/>\n",
        "\n",
        "類神經網路可依區分為，輸入層 (Input Layer)、隱藏層 (Hidden Layer)、及輸出層 (Output Layer)，網路中每一層都有許多神經元 (Neuron)，各層神經元與神經元的連結，是透過權重 (Weight)和偏差 (Bias)。\n",
        "\n",
        "- a = W1X1 + W2X2 + ... + WnXn + b\n",
        "\n",
        "- a = ∑WiXi + b, (i from 0 to n)\n",
        "\n",
        "- y = f(a)\n",
        "\n",
        "\n",
        "- x 是輸入(input)：模仿細胞間傳遞時的訊號，可以是很多個。\n",
        "- w 是權重(weight)：模仿細胞的樹突，對應著每個輸入(input)，輸入有幾個權重就有幾個。\n",
        "- b 是偏差值(bias)：有點閥值的意義。\n",
        "- a 是還未經過激活函數的輸出。\n",
        "- f 是激活函數(activation function)，常見 Activation Fucntion : ReLu、Sigmoid、Tanh\n",
        "- y 是輸出(output)。\n",
        "\n",
        "\n",
        "除了權重與偏差外，網路層的輸出還需要加上 **激活函數 (Activation Function)**。\n",
        "\n",
        "沒有激活函數，不管網路增加多深，網路所能學習到的也只能是**一條線姓方程式**\n",
        "\n",
        "\n",
        "<img src=\"https://encrypted-tbn0.gstatic.com/images?q=tbn%3AANd9GcSaB6FYy7nmTV_AM1qdkG5MEipCIOks0NO3GHMifpOo2UeQ7t94&usqp=CAU\" width =\"40%\"/>\n",
        "\n",
        "\n"
      ]
    },
    {
      "cell_type": "markdown",
      "metadata": {
        "id": "avADvusdpyR-",
        "colab_type": "text"
      },
      "source": [
        "激活函數 (Activation Function)\n",
        "\n",
        "<img src=\"https://cdn-images-1.medium.com/max/1600/1*rIiBaH5IMVPaE5BM-n7VZw.png\" width=80% />"
      ]
    },
    {
      "cell_type": "markdown",
      "metadata": {
        "id": "TvsEJ3TBADEV",
        "colab_type": "text"
      },
      "source": [
        "## **5.3 類神經網路訓練步驟：**\n",
        "\n",
        "---"
      ]
    },
    {
      "cell_type": "markdown",
      "metadata": {
        "id": "1PV4teB55TEA",
        "colab_type": "text"
      },
      "source": [
        "\n",
        "\n",
        "1. **定義問題與目標 (Identify Problem and Objective)**\n",
        "\n",
        "2. **準備資料集 (Create a dataset)**\n",
        "\n",
        "    監督式學習，準備訓練資料 Input X，以及預期的答案 Output Y。D(x, y)\n",
        "\n",
        "      - 訓練資料: 用來做學習的資料\n",
        "\n",
        "      - 試驗資料: 在訓練過程中用來試驗模型的資料\n",
        "\n",
        "      - 驗證資料: 在模型訓練完成後，用來驗證模型準確率的資料\n",
        "\n",
        "3. **建立神經網路模型 (Create a model)**\n",
        "\n",
        "    - 定義網路架構 (DNN, CNN, RNN, GNN)\n",
        "\n",
        "    - 全連結層 (Fully Connect)\n",
        "\n",
        "    - 損失函數 (loss function)\n",
        "\n",
        "    - 優化器 (optimizer)\n",
        "\n",
        "4. **模型訓練 (Train a model)**\n",
        "\n",
        "    完成模型創建後，可以開始訓練模型！在每次訓練之前，可以調整模型中的資料權重，或設定超參數（Hyperparameter）。\n",
        "\n",
        "    - 神經網路權重更新\n",
        "\n",
        "    - 反向傳遞\n",
        "\n",
        "    - 過擬合 (Overfitting)\n",
        "\n",
        "5. **模型驗證 (Validate a trained model)**\n",
        "訓練成功後，利用驗證資料來驗證你的模型。\n",
        "\n",
        "6. **模型上線 (Create an inference model)**\n",
        "\n",
        "7. **開始AI應用 (Start an inference job)**\n",
        "\n"
      ]
    },
    {
      "cell_type": "markdown",
      "metadata": {
        "id": "PLcWx4KfBGLg",
        "colab_type": "text"
      },
      "source": [
        "### **5.3.1 定義問題與目標**"
      ]
    },
    {
      "cell_type": "markdown",
      "metadata": {
        "id": "2UR-uMPfBGYF",
        "colab_type": "text"
      },
      "source": [
        ""
      ]
    },
    {
      "cell_type": "markdown",
      "metadata": {
        "id": "rJ4yJmju8Qo-",
        "colab_type": "text"
      },
      "source": [
        "### **5.3.2 訓練資料集**\n",
        "\n"
      ]
    },
    {
      "cell_type": "markdown",
      "metadata": {
        "id": "AnjijCWdFQgr",
        "colab_type": "text"
      },
      "source": [
        ""
      ]
    },
    {
      "cell_type": "markdown",
      "metadata": {
        "id": "biF0pcZUDNaU",
        "colab_type": "text"
      },
      "source": [
        "### **5.3.3 建立神經網路模型**"
      ]
    },
    {
      "cell_type": "markdown",
      "metadata": {
        "id": "L5rr1n8uCfMq",
        "colab_type": "text"
      },
      "source": [
        "#### [THE NEURAL NETWORK ZOO](https://www.asimovinstitute.org/neural-network-zoo/)\n"
      ]
    },
    {
      "cell_type": "markdown",
      "metadata": {
        "id": "BiWyD3yLC_8h",
        "colab_type": "text"
      },
      "source": [
        "<img src=\"https://www.asimovinstitute.org/wp-content/uploads/2019/04/NeuralNetworkZoo20042019.png\" alt=\"alt\" width=\"100%\"/>"
      ]
    },
    {
      "cell_type": "markdown",
      "metadata": {
        "id": "JZBBLToADb8f",
        "colab_type": "text"
      },
      "source": [
        "#### **● 深度學習網路架構可以分為：**"
      ]
    },
    {
      "cell_type": "markdown",
      "metadata": {
        "id": "TA8THJag9O-e",
        "colab_type": "text"
      },
      "source": [
        "**(1) 全連結 (Fully Connected)**\n",
        "\n",
        "在類神經網路中，如果每個神經元都與前一層的所有神經元相連結，即稱為全連結 (Fully Connected) \n",
        "\n",
        "<img src=\"https://www.oreilly.com/library/view/tensorflow-for-deep/9781491980446/assets/tfdl_0402.png\" alt=\"alt\" width=\"30%\"/>"
      ]
    },
    {
      "cell_type": "markdown",
      "metadata": {
        "id": "UtJx06aHo41j",
        "colab_type": "text"
      },
      "source": [
        "\n",
        "\n",
        "**(2) 卷積神經網路(CNN)是最常見的深度學習網路架構之一。**\n",
        "\n",
        "- 因為網路架構中的卷積層(Convolutional layer)及池化層(Pooling layer)強化了模式辨識(Pattern recognition)及相鄰資料間的關係，使卷積神經網路應用在影像、聲音等訊號類型的資料型態能得到很好的效果。\n",
        "\n",
        "- 強化學習 (Reinforcement Learning) 在使用深度學習玩電子遊戲時，也常會使用卷積神經網路來分析螢幕上的影像內容，協助軟體代理人(Software agent)判斷目前的情況、產生下一步行動。在電腦圍棋程式AlphaGo中，也使用了變化過的卷積神經網路與蒙地卡羅樹搜尋演算法結合，得到驚人的棋力。\n",
        "    \n",
        "- 卷積層是卷積神經網路最核心的部份，通常由數十到數百個n x n的濾鏡(filter)組成，每個濾鏡會對不同的影像模式(Image pattern)進行強化，這些濾鏡實際強化的影像模式也是由訓練過程找出來的，所以卷積層可以針對不同的問題產生出不同的濾鏡效果。\n",
        "    \n",
        "- 池化層是類似訊號處理中的降維採樣(Down sampling)，通常會接在卷積層之後。一般用於影像識別的卷積神經網路，會在處理輸入資料時，有一到三次的卷積層加池化層的處理，之後再接兩層以上的完全連接層(Fully connected layer)，才輸出預測結果。\n",
        "\n",
        "<img src=\"https://miro.medium.com/max/3744/1*SGPGG7oeSvVlV5sOSQ2iZw.png\" alt=\"alt\" width=\"80%\"/>"
      ]
    },
    {
      "cell_type": "markdown",
      "metadata": {
        "id": "PTuM4WnQo-Lb",
        "colab_type": "text"
      },
      "source": [
        "**(3) 遞歸神經網路(RNN)是近年來最蓬勃發展的深度學習網路架構**\n",
        "\n",
        "- 在架構上跟傳統的類神經網路有很大的不同。遞歸神經網路的神經元內有一個暫存的記憶空間，可以把先前輸入資料產生的狀態儲存在暫存的記憶空間(internal memory)內，之後神經元就可以根據之前的狀態而計算出不同的輸出值。因為遞歸神經網路可以儲存先前的狀態，所以可以處理不同長度的輸入資料，對時間序列(Time series)、自然語言處理(Nature language processing)、語音辨識等應用有非常好的效果。\n",
        "\n",
        "- 雖然遞歸神經網路是如此強大，但在實務的訓練上卻有一些問題。權重組合的空間形狀對隨機梯度下降法很不利，有很平緩的地方也有非常陡峭的山谷。平緩的地方會有梯度消失(Vanishing gradient)的問題，會讓隨機梯度下降法停留在局部最佳解，而非常陡峭的山谷容易讓隨機梯度下降法更新後的數值跑出正常的範圍，使得隨機梯度下降法產生很不穩定的結果。\n",
        "\n",
        "<img src=\"https://ithelp.ithome.com.tw/upload/images/20171210/20001976y5kxBTjmM7.jpg\" alt=\"alt\" width=\"50%\"/>\n"
      ]
    },
    {
      "cell_type": "markdown",
      "metadata": {
        "id": "7zYp4t89o-i1",
        "colab_type": "text"
      },
      "source": [
        "**(4) 長短期記憶神經網路(Long-short term memory, LSTM)**\n",
        "\n",
        "- 跟遞歸神經網路最大的不同，就是在神經元中加入了三個控制用的開關(Gate)，分別是寫入(input)、遺忘(forget)、輸出(output)。這三個開關有各自的權重，會依據輸入資料經過權重計算之後來決定每個開關的開啟或關閉。寫入開關用來控制資料是否寫入內部記憶空間、遺忘開關用來控制是否把先前記憶空間中的內容保留、輸出開關用來控制記憶空間中的數值是否要輸出。\n",
        "- 雖然增加了這些開關而有更多的權重需要搜尋，但有了這三個開關就能減少遞歸神經網路在使用隨機梯度下降法時碰到的問題。目前常見深度學習中用到遞歸神經網路架構時，大多會使用長短期記憶神經網路或他的簡化版本GRU(Gated Recurrent Unit)。\n",
        "\n",
        "<img src=\"https://www.researchgate.net/publication/320813292/figure/fig2/AS:566655518740481@1512112611826/Model-of-the-RNN-LSTM-producing-SMILES-strings-token-by-token-The-token-G-denotes.png\" alt=\"alt\" width=\"50%\"/>"
      ]
    },
    {
      "cell_type": "markdown",
      "metadata": {
        "id": "jKERKqYtC_qU",
        "colab_type": "text"
      },
      "source": [
        "\n",
        "**(5) 深度圖形卷積網路 (Deep Learning on Graphs with Graph Convolutional Networks)**\n",
        "\n",
        "- 2018年AI領域最閃耀的技術，除了NLP領域以Bert、GPT模型等為代表的無監督預訓練技術之外，另外一個研究熱點就是Graph Neural Network（GNN）\n",
        "\n",
        "- 在深度學習中，一般圖片(Images)上有表現很好的卷積神經網路(CNN)來作為特徵萃取器(Feature extractor)，但這樣的CNN無法應用再圖學上，所以衍生出了圖形卷積神經網路(GCN)。GCNs是一套強大的方法，一般的兩層隨機初始化的GCN就能夠作出很好的特徵表示。下面這張圖代表從Graph到二維特徵表示的GCN轉換，轉換後的特徵保留了原先Graph中各個node間的相對關係。 [GCN Model](https://www.itread01.com/content/1547467084.html)\n",
        "\n",
        "<img src=\"https://miro.medium.com/proxy/1*pCeWhIrEFXoEgsB5eEB6sw.png\" alt=\"alt\" width=\"50%\" />\n",
        "\n",
        "- 北京清華大學校崔鵬老師等整理的深度學習圖技術分類論文\n",
        "\n",
        "<img src=\"https://res.cloudinary.com/dhk2edkft/image/upload/v1560441705/ywf5hg4tadb6anfw1zwc.jpg\" alr=\"alt\" width=\"80%\" />"
      ]
    },
    {
      "cell_type": "markdown",
      "metadata": {
        "id": "XEK1lowtE0-w",
        "colab_type": "text"
      },
      "source": [
        "#### **● 損失函數**"
      ]
    },
    {
      "cell_type": "markdown",
      "metadata": {
        "id": "zR2fjSZgE5Fz",
        "colab_type": "text"
      },
      "source": [
        "[Reference](https://buzzorange.com/techorange/2018/06/22/computer-learning-5-tips/)\n",
        "\n",
        "機器學習中所有的算法都需要最大化或最小化一個函數，這個函數被稱為「目標函數」。其中，我們一般把最小化的一類函數，稱為「損失函數」。它能根據預測結果，衡量出模型預測能力的好壞。\n",
        "\n",
        "損失函數 (Loss Function) 是用來計算模型預測值與預期輸出值之間的相似差異程度，並在訓練過程中將預測值與預期輸出值之間的相似差異程度最小化。針對機器學習常見的問題來說明常用的損失函數，\n",
        "\n",
        "- 回歸問題 (Regression)\n",
        "\n",
        "  常使用 Mean Squarred Error 或 Mean Absolute Error，來評估預測值與預期輸出值之間的相似差異程度。\n",
        "\n",
        "- 二元分類問題 (Binary Classification Problem)\n",
        "\n",
        "  常使用 Binary Cross-Entropy，來評估預測值與預期輸出值之間的相似差異程度。\n",
        "\n",
        "- 多元分類問題 (Multiple Classification Problem)\n",
        "\n",
        "  常使用 Categorical Cross-Entropy，來評估預測值與預期輸出值之間的相似差異程度。\n",
        "\n",
        "  "
      ]
    },
    {
      "cell_type": "markdown",
      "metadata": {
        "id": "COd9lYX54jRq",
        "colab_type": "text"
      },
      "source": [
        "**(1) 均方誤差 MSE （也稱 L2 損失）**\n",
        "\n",
        "均方誤差 (MSE) 是最常用的回歸損失函數，計算方法是求預測值與真實值之間距離的平方和，公式如圖。\n",
        "\n",
        "<img src=\"https://buzzorange.com/techorange/wp-content/uploads/sites/2/2018/06/1529651503728.webp?jpg\" alt=\"alt\" width=\"60%\" />"
      ]
    },
    {
      "cell_type": "markdown",
      "metadata": {
        "id": "ODGCiHUd5KUa",
        "colab_type": "text"
      },
      "source": [
        "**(2) 平均絕對值誤差（也稱 L1 損失）**\n",
        "\n",
        "平均絕對誤差（MAE）是另一種用於回歸模型的損失函數。MAE 是目標值和預測值之差的絕對值之和。其只衡量了預測值誤差的平均模長，而不考慮方向，取值範圍也是從 0 到正無窮（如果考慮方向，則是殘差/誤差的總和——平均偏差（MBE））。\n",
        "\n",
        "<img src=\"https://buzzorange.com/techorange/wp-content/uploads/sites/2/2018/06/1529650940657.webp?jpg\" alt=\"alt\" width=\"60%\"/>"
      ]
    },
    {
      "cell_type": "markdown",
      "metadata": {
        "id": "FyfWQ1Y33yCN",
        "colab_type": "text"
      },
      "source": [
        "- MSE 和 MAE 的損失函數誤差比較\n",
        "\n",
        "<img src=\"https://miro.medium.com/max/1400/1*F-T_K2DksEOx44TBSPwNIA.png\" alt=\"alt\" width=\"50%\" />\n"
      ]
    },
    {
      "cell_type": "markdown",
      "metadata": {
        "id": "t-l9hdEs6WZr",
        "colab_type": "text"
      },
      "source": [
        "**(3) Huber 損失，平滑的平均絕對誤差**\n",
        "\n",
        "Huber 損失對數據中的異常點沒有平方誤差損失那麼敏感。它在 0 也可微分。本質上，Huber 損失是絕對誤差，只是在誤差很小時，就變為平方誤差。誤差降到多小時變為二次誤差由超參數 δ（delta）來控制。當 Huber 損失在 [0-δ,0+δ] 之間時，等價為 MSE，而在 [-∞,δ] 和 [δ,+∞] 時為 MAE。\n",
        "\n",
        "<img src=\"https://buzzorange.com/techorange/wp-content/uploads/sites/2/2018/06/1529650718886.webp?jpg\" alt=\"alt\" width=\"60%\"/>"
      ]
    },
    {
      "cell_type": "markdown",
      "metadata": {
        "id": "_c6et3X26px1",
        "colab_type": "text"
      },
      "source": [
        "**(4) Log-Cosh 損失**\n",
        "\n",
        "Log-cosh 是另一種應用於回歸問題中的，且比 L2 更平滑的的損失函數。它的計算方式是預測誤差的雙曲餘弦的對數。\n",
        "\n",
        "<img src=\"https://buzzorange.com/techorange/wp-content/uploads/sites/2/2018/06/1529650678423.webp?jpg\" alt=\"alt\" width=\"60%\"/>\n",
        "\n",
        "\n"
      ]
    },
    {
      "cell_type": "markdown",
      "metadata": {
        "id": "vQeLzExo7xMw",
        "colab_type": "text"
      },
      "source": [
        "**(5) 理解分位數損失函數**\n",
        "\n",
        "如何選取合適的分位值取決於我們對正誤差和反誤差的重視程度。損失函數通過分位值（γ）對高估和低估給予不同的懲罰。例如，當分位數損失函數 γ=0.25 時，對高估的懲罰更大，使得預測值略低於中值。\n",
        "\n",
        "<img src=\"https://buzzorange.com/techorange/wp-content/uploads/sites/2/2018/06/1529650454121.webp?jpg\" alt=\"alt\" width=\"50%\"/>\n",
        "\n",
        "γ 是所需的分位數，其值介於 0 和 1 之間。\n",
        "\n",
        "<img src=\"https://buzzorange.com/techorange/wp-content/uploads/sites/2/2018/06/1529650428251.webp?jpg\" alt=\"alt\" width=\"50%\"/>"
      ]
    },
    {
      "cell_type": "markdown",
      "metadata": {
        "id": "-fxd-eAU8Qiq",
        "colab_type": "text"
      },
      "source": [
        "**(6) 各損失函數比較**\n",
        "\n",
        "<img src=\"https://buzzorange.com/techorange/wp-content/uploads/sites/2/2018/06/1529650281974.webp?jpg\" alt=\"alt\" width=\"580%\"/>"
      ]
    },
    {
      "cell_type": "markdown",
      "metadata": {
        "id": "QSY8V27Vpacs",
        "colab_type": "text"
      },
      "source": [
        "#### **● Optimization：優化深度學習模型的技巧**\n",
        "\n",
        "Optimizer : 決定學習過程如何進行，常見的方法有 SGD、Adam、RMSprop等。\n",
        "\n",
        "\n"
      ]
    },
    {
      "cell_type": "markdown",
      "metadata": {
        "id": "ntVnivNudi3g",
        "colab_type": "text"
      },
      "source": [
        "[An over view optimizer algorithm](https://ruder.io/optimizing-gradient-descent/)   .  [Reference](https://ithelp.ithome.com.tw/articles/10203542)\n",
        "\n",
        "<img src=\"https://ruder.io/content/images/2016/09/contours_evaluation_optimizers.gif\" width=\"30%\"/>\n",
        "<img src=\"https://ruder.io/content/images/2016/09/saddle_point_evaluation_optimizers.gif\" width=\"30%\"/>"
      ]
    },
    {
      "cell_type": "markdown",
      "metadata": {
        "id": "upVYgMrI9eGm",
        "colab_type": "text"
      },
      "source": [
        "##### **Batch & Mini Batch**"
      ]
    },
    {
      "cell_type": "markdown",
      "metadata": {
        "id": "oDtrAtjg9j_q",
        "colab_type": "text"
      },
      "source": [
        "深度學習每一次參數的更新所需要損失函數並不是由一個資料點而來的，而是由一組數據加權得到的，稱為 batch。 batch 的選擇決定了梯度下降的方向，而 batch 的數量就是 batch size。：\n",
        "\n",
        "**Full Batch：** batch size 為樣本總數。如果數據集較小，可以使用 Full batch learning 的形式，\n",
        "\n",
        "優點：它具有朝向最小值的直線軌跡，並且如果損失函數是凸的（convex）則保證在理論上收斂到全局最小值，並且如果損失函數不是凸的則保證局部最小值。\n",
        "缺點：如果數據集很龐大，速度可能會很慢。\n",
        "\n",
        "**Mini batch：**解決上述方法的缺點，提高學習效率，將訓練集分成很多批（batch），對每一批計算誤差並更新參數，是深度學習中很常見的學習方式。\n",
        "\n",
        "下圖左邊是 full batch 的梯度下降效果，右邊是 mini batch 的梯度下降效果，可以看到它是上下波動，但整體還是呈現下降的趨勢。\n",
        "\n",
        "<img src=\"https://ithelp.ithome.com.tw/upload/images/20181022/20112540dqiTKnHoZq.png\" alt=\"alt\" width=\"60%\"/>"
      ]
    },
    {
      "cell_type": "markdown",
      "metadata": {
        "id": "qGUkp-fp9BHa",
        "colab_type": "text"
      },
      "source": [
        "##### **梯度下降**"
      ]
    },
    {
      "cell_type": "markdown",
      "metadata": {
        "id": "NBGMmP4Kpjcl",
        "colab_type": "text"
      },
      "source": [
        "\n",
        "\n",
        "神經網路目的是找到合適的權重 (Weigth) 與偏差值 (Bias) 使得損失函數 (loss Function) 的損失值 (Loss) 越來越小，尋找參數的過程稱為 「學習」，梯度下降為最常用的優化演算法 (Optimizer)，透過計算梯度，並沿著梯度反方向移動，進而減少網路預測與樣本標籤之間的誤差。\n",
        "\n",
        "<img src=\"https://img-blog.csdnimg.cn/20181201204534330.png?x-oss-process=image/watermark,type_ZmFuZ3poZW5naGVpdGk,shadow_10,text_aHR0cHM6Ly9ibG9nLmNzZG4ubmV0L3FxcWlucnVp,size_16,color_FFFFFF,t_70\" alt=\"alt\" width=\"50%\" />\n",
        "\n",
        "分別求解損失函數L(w,b)對w和b的偏導數，對於w，當偏導數絕對值較大時，w取值移動較大，反之較小，通過不斷迭代，在偏導數絕對值接近於0時，移動值也趨近於0，相應的最小值被找到。η 選取一個常數引數，前面的負號表示偏導數為負數時（即梯度下降時），w向增大的地方移動。\n",
        "\n",
        "L(w,b) : 損失函式\n",
        "\n",
        "W : 權重\n",
        "\n",
        "b : 偏差\n",
        "\n",
        "η : 學習率\n",
        "\n",
        "梯度下降每一次的更新，並不見得是朝損失函數最小值更新，而是朝著當下最多損失函數誤差的方向更新，通常所達到的點並非全域最小值 (global minimun)，而是區域最小值 (local minimun)"
      ]
    },
    {
      "cell_type": "markdown",
      "metadata": {
        "id": "46yxlzXy9RUf",
        "colab_type": "text"
      },
      "source": [
        "##### **學習率（Learning Rate）：**"
      ]
    },
    {
      "cell_type": "markdown",
      "metadata": {
        "id": "V9A8U6GopkTH",
        "colab_type": "text"
      },
      "source": [
        "\n",
        "\n",
        "前面梯度下降中的 η 就是學習率，學習率的大小決定了網路找到最優解需要迭代的次數，\n",
        "\n",
        "學習率越大，需要迭代的次數越少，但是可能越過最優值；\n",
        "\n",
        "學習率越小，優化效率較低，長時間可能無法收斂。\n",
        "\n",
        "<img src=\"https://ithelp.ithome.com.tw/upload/images/20181022/20112540nxqsGC4zYd.png\" alt=\"alt\" width=\"80%\"/>\n",
        "\n",
        "針對不同的資料量與損失函數等實際情況，學習率需要做相應的調整，有以下幾種方式：\n",
        "\n",
        "1、η/N，表示隨著樣本數量的增加，需要的學習率越小，因為偏導數會隨著訓練資料的增多而變大（樣本越多，損失函式越大），因此學習率相應的設定更小的值\n",
        "\n",
        "2、選擇一個不被訓練集樣本個數影響的成本函式，如均方平均值\n",
        "\n",
        "3、在每次迭代中調節不同的學習率\n",
        "\n",
        "基本思路：離最優值越遠，需要朝最優值移動的就越多\n",
        "\n",
        "解決方法：每次迭代後，使用估計的模型引數檢查誤差函式值，如果相對一上一次迭代，錯誤率減少了，就可以增大學習率；如果增大了，就重新設定上一輪的w值，並減少學習率到之前的一半。\n",
        "\n",
        "4、歸一化輸入向量：mix-max歸一化、zscore歸一化\n",
        "\n",
        "(*) Learning Rate 的大小會影響 Loss Function 的收斂\n",
        "\n",
        "<img src=\"https://ithelp.ithome.com.tw/upload/images/20181022/20112540iEs9wDBGB2.png\" width=\"80%\"/>"
      ]
    },
    {
      "cell_type": "markdown",
      "metadata": {
        "id": "VAb2cDu0pkdz",
        "colab_type": "text"
      },
      "source": [
        "##### **Stochastic Gradient Descent (SGD)**"
      ]
    },
    {
      "cell_type": "markdown",
      "metadata": {
        "id": "paChQ-a4pkp1",
        "colab_type": "text"
      },
      "source": [
        "隨機梯度下降（SGD）在每個樣本上執行參數更新。因此，每個樣本都有學習。與 mini-batch 相比，它為學習過程增加了更多的噪音，有助於改善泛化錯誤，但會增加運行時間。\n",
        "\n",
        "<img src=\"https://ithelp.ithome.com.tw/upload/images/20181022/201125407UREeWaPss.png\" width=\"60%\"/>"
      ]
    },
    {
      "cell_type": "markdown",
      "metadata": {
        "id": "Mlhi2RGX-4ve",
        "colab_type": "text"
      },
      "source": [
        "##### **Momentum （動量)**\n"
      ]
    },
    {
      "cell_type": "markdown",
      "metadata": {
        "id": "tV9LwX69-48y",
        "colab_type": "text"
      },
      "source": [
        "與物理慣性有關，想像球在碗內來回滾動的物理定律為基準來移動的畫面。momentum 基本思路是為了尋找最佳解而加入了「慣性」的影響，好處是振盪的幅度變小且縮短了到達一定地點的時間，另外有可能透過慣性來讓梯度下降跳出局部最小值（local minimum）。\n",
        "\n",
        "<img src=\"https://ithelp.ithome.com.tw/upload/images/20181022/20112540PTzAmDZjqg.jpg\" width=\"50%\"/>"
      ]
    },
    {
      "cell_type": "markdown",
      "metadata": {
        "id": "FfL-Uy4eAW__",
        "colab_type": "text"
      },
      "source": [
        "##### **AdaGrad：**"
      ]
    },
    {
      "cell_type": "markdown",
      "metadata": {
        "id": "nlG8Ava5AXUN",
        "colab_type": "text"
      },
      "source": [
        "\n",
        "Adagrad 針對每個參數客制化的值，對學習率進行約束，依照梯度去調整學習率。優點是能加快訓練速度，在前期梯度較小時（較平坦）能夠放大梯度，後期梯度較大時（陡峭）能約束梯度，但缺點是在訓練中後段時有可能梯度趨近於 0，而過早结束學習過程。\n"
      ]
    },
    {
      "cell_type": "markdown",
      "metadata": {
        "id": "y4Tk7j6lAXXj",
        "colab_type": "text"
      },
      "source": [
        "##### **RMSProp：**\n"
      ]
    },
    {
      "cell_type": "markdown",
      "metadata": {
        "id": "ClQRNnzlAXbI",
        "colab_type": "text"
      },
      "source": [
        "RMSProp：\n",
        "Geoff Hinton 所提出，可改善 AdaGrad 的缺點。RMSProp 比 AdaGrad 多了一個衰減系統，它會聯繫之前的每一次梯度變化情況來更新學習率，緩解 Adagrad 學習率下降過快的問題。\n"
      ]
    },
    {
      "cell_type": "markdown",
      "metadata": {
        "id": "S3l5ujFFAXp0",
        "colab_type": "text"
      },
      "source": [
        "##### **Adam：**"
      ]
    },
    {
      "cell_type": "markdown",
      "metadata": {
        "id": "xu97PxcgAnZD",
        "colab_type": "text"
      },
      "source": [
        "\n",
        "是實務上常用的方法，直覺來說 Adam 是 AdaGrad 跟 momentum 的融合，優點主要在於它有做偏置校正，使每次迭代學習率都有個確定範圍，讓參數的更新較為平穩。"
      ]
    },
    {
      "cell_type": "markdown",
      "metadata": {
        "id": "5p7NA3DiMdjn",
        "colab_type": "text"
      },
      "source": [
        "### **5.3.4 模型訓練**"
      ]
    },
    {
      "cell_type": "markdown",
      "metadata": {
        "colab_type": "text",
        "id": "RWVAR_z4MYtA"
      },
      "source": [
        "#### **● 多層感知機 Multilayer perceptron, MLP**"
      ]
    },
    {
      "cell_type": "markdown",
      "metadata": {
        "colab_type": "text",
        "id": "8222ONGbMYtA"
      },
      "source": [
        "<img src=\"https://miro.medium.com/max/1300/1*khLroz9AyHfprnx_0A4kVw.png\" width=\"50%\" />\n",
        "\n",
        "假設有個MLP的結構，共有n筆樣本，每個樣本對應m個輸出值。隱藏層只有一層設定為p個hidden node。\n",
        "<img src=\"https://miro.medium.com/max/956/1*RRinWFzwEtNgRqLUSbvG6A.png\" width=\"50%\"/>"
      ]
    },
    {
      "cell_type": "markdown",
      "metadata": {
        "colab_type": "text",
        "id": "X99KMcG0MVlJ"
      },
      "source": [
        "#### **● Forward propagation (前向傳遞)**"
      ]
    },
    {
      "cell_type": "markdown",
      "metadata": {
        "colab_type": "text",
        "id": "cRkRFOXJMVlK"
      },
      "source": [
        "- <h2> 輸入層到隱藏層 </h2>\n",
        "\n",
        "<img src=\"https://miro.medium.com/max/1400/1*-auAQFoGTQjkrDsm9sWY4Q.png\" width=\"80%\"/>\n",
        "\n",
        "輸入層到隱藏層的值為sk,k=1,…,p，為輸入訊號的加權線性和(vik為第i個輸入到第k個hidden node的權重)。\n",
        "\n",
        "<img src=\"https://miro.medium.com/max/258/1*YcfDi2nD_wvBHrGKfZRyzg.png\" width=\"20%\"/>\n",
        "\n",
        "經過 非線性轉換/激活函數(activation function，f1)後，得到hidden node的輸出hk\n",
        "\n",
        "<img src=\"https://miro.medium.com/max/236/1*vUq7J0WaKOi2BiskwJxDXg.png\" width=\"20%\"/>\n",
        "\n",
        "\n",
        "---\n",
        "\n",
        "\n",
        "- <h2>隱藏層到輸出層</h2>\n",
        "\n",
        "<img src=\"https://miro.medium.com/max/1400/1*QwIJQ9i9vSE0wA3RopWSiA.png\" width=\"80%\"/>\n",
        "\n",
        "隱藏層到輸出層的值為zj,j=1,…,m，為hidden node輸出的加權線性和(wkj為第k個hidden node輸出到第j個輸出值的權重)\n",
        "\n",
        "<img src=\"https://miro.medium.com/max/640/1*9RPabiMQvNnwQslwC46oPA.png\" width=\"20%\"/>\n",
        "\n",
        "經過 非線性轉換/激活函數(activation function，f2)後，得到推估的輸出值y ̂j\n",
        "\n",
        "<img src=\"https://miro.medium.com/max/236/1*UgBUl0j61peuNkii7f2q6A.png\" width=\"20%\"/>\n",
        "\n",
        "\n",
        "當我們於眾多函式組中找出針對特定模式辨別之模型，我們即可利用此模型所學習到參數進行預測(由損失函數決定預測的目標，可能是分類、回歸，或是兩者的結合)。(測試階段即是在模型建立後利用前向傳導達成)\n",
        "\n",
        "在全連接層(傳統的神經網路)，抑或是CNN中的卷積層，數值經過前饋網路傳遞參數時，若我們用l來代表當前層，當前層由上一層輸出經過激活函數可以下式表達：\n",
        "\n"
      ]
    },
    {
      "cell_type": "markdown",
      "metadata": {
        "colab_type": "text",
        "id": "ouQp47OYMQ0F"
      },
      "source": [
        "#### **● Backpropagation (反向傳遞)**"
      ]
    },
    {
      "cell_type": "markdown",
      "metadata": {
        "colab_type": "text",
        "id": "hVsKH4HAMQ0F"
      },
      "source": [
        "Backpropagation (反向傳播學習)\n",
        "\n",
        "[reference 1](http://elmer-storage.blogspot.com/2018/07/cnn-convolutional-neural-network-cnn.html)\n",
        "\n",
        "[reference 2](https://medium.com/@chih.sheng.huang821/%E6%A9%9F%E5%99%A8%E5%AD%B8%E7%BF%92-%E7%A5%9E%E7%B6%93%E7%B6%B2%E8%B7%AF-%E5%A4%9A%E5%B1%A4%E6%84%9F%E7%9F%A5%E6%A9%9F-multilayer-perceptron-mlp-%E5%90%AB%E8%A9%B3%E7%B4%B0%E6%8E%A8%E5%B0%8E-ee4f3d5d1b41)\n",
        "\n",
        "\n",
        "反向傳遞的目的就是利用最後的目標函數(loss/cost function)來進行參數的更新，當我們要解決一個分類或回歸問題時，需要設定一個損失函數(loss function)，一般來說都是用誤差均方和(mean square error)當作目標函數。如果誤差值越大，代表參數學得不好，所以需要繼續學習，直到參數或是誤差值收斂。因此而獲得評估目前參數的好壞的指標，這個指標就是用來指引反向傳播學習時的方向，有了學習的方向，才能在不斷學習後，從函數組中找到我們所需的模型。\n",
        "\n",
        "x^(i)為第i筆資料的輸入值，其輸出值為\n",
        "\n",
        "<img src=\"https://miro.medium.com/max/313/1*LoK01OLWJckEZot2mTPrbg.png\" width=\"30%\">\n",
        "\n",
        "其目標的誤差為\n",
        "\n",
        "<img src=\"https://miro.medium.com/max/428/1*YjxZbNg5Da2ijJ64_guMLA.png\" width=\"30%\">\n",
        "\n",
        "所有樣本的誤差和當作目標函數\n",
        "\n",
        "<img src=\"https://miro.medium.com/max/233/1*YaDPAp_1VQfqreZouYhKBw.png\" width=\"20%\">\n",
        "\n",
        "最佳化的目的就是讓「所有樣本的誤差均方和」越小越好，所以目標是\n",
        "\n",
        "<img src=\"https://miro.medium.com/max/209/1*-0Dn_DmrstRny8nApFnejA.png\" width=\"20%\">\n",
        "\n",
        "所以要找到最佳參數解(參數只有wkj和vik)，最簡單的方式就是微分方程式等於0找解\n",
        "\n",
        "<img src=\"https://miro.medium.com/max/333/1*_uk82vFJPp6Kesz7i70gAg.png\" width=\"30%\">\n",
        "\n",
        "但參數量多無法直接找到唯一解(後面公式有偏微分後的結果，很難直接找到唯一解)，所以還是需要依賴gradient descent找最佳解。\n",
        "假設讀者對gradient descent有基本認識。\n",
        "利用gradient descent找最佳參數解(參數只有wkj和vik)\n",
        "\n",
        "<img src=\"https://miro.medium.com/max/319/1*Twj50e2FqYJxdy8D2FTnhw.png\" width=\"30%\">\n",
        "\n",
        "其中 η (eta) 為學習率(learning rate)，\n",
        "\n",
        "<img src=\"https://miro.medium.com/max/1094/1*oQoS9CwvBteRMfgGcq9W3A.png\" width=\"60%\">\n",
        "\n",
        "基本上微分解無法直接算出，因此用chain rule方式，可以更有效得到解，以下針對不同層別的連結算倒傳遞 (只針對一個樣本去計算)\n",
        "\n",
        "\n",
        "---\n",
        "\n",
        "\n",
        "- **輸出到隱藏層(wkj)**\n",
        "\n",
        "<img src=\"https://miro.medium.com/max/1400/1*P_SuZHPcTKe9_8YeoVRw8A.png\" width=\"60%\">\n",
        "\n",
        "chain rule:\n",
        "\n",
        "<img src=\"https://miro.medium.com/max/1394/1*gDrS62irKGjKJMC6ykxVOQ.png\" width=\"60%\">\n",
        "\n",
        "<img src=\"https://miro.medium.com/max/1164/1*f7dg3yueu4u5dvKHIwOcUQ.png\" width=\"60%\">\n",
        "\n",
        "- **隱藏層到輸入層(vik)**\n",
        "\n",
        "<img src=\"https://miro.medium.com/max/1400/1*K-0BWMpQW713JwjoDalhTA.png\" width=\"60%\">\n",
        "\n",
        "chain rule:\n",
        "\n",
        "<img src=\"https://miro.medium.com/max/1388/1*3q3qD55IF7_8rYogHPGWhA.png\" width=\"60%\">\n",
        "\n",
        "<img src=\"https://miro.medium.com/max/1368/1*0QbAjiFSxSwfU8oMiqv_jg.png\" width=\"60%\">\n",
        "\n",
        "所以\n",
        "\n",
        "<img src=\"https://miro.medium.com/max/1332/1*-rZMN8A5H-v5qkv8qHO2SA.png\" width=\"60%\">\n",
        "\n",
        "最後把n個樣本所有gradient加起來得到參數的update\n",
        "\n",
        "<img src=\"https://miro.medium.com/max/1400/1*FQ0vU1joDzTnSi3SkOxn-Q.png\" width=\"60%\">\n",
        "\n",
        "PS: 裡面有一個重點，非線性轉換/激活函數(f1,f2)在倒傳遞時都有微分，所以在選擇激活函數時必須要選擇可微分函數。\n",
        "\n",
        "神經網路再求解上述問題時，會先隨機初始化初始權重w0與初始偏差b0，隨後每次更新參數時，藉由梯度下降法(gradient descent，GD)從函數組中找出最佳解。我們可以藉由動畫快速了解梯度下降法的使用過程，如下：(梯度下降可視化請看[Python筆記 - Matplotlib - 製作圖表動畫 (以梯度下降法為例)](http://elmer-storage.blogspot.com/2018/07/python-matplotlib_15.html)與[Python筆記 - Matplotlib - 繪製3D動畫 (以雙變數梯度下降法為例)](http://elmer-storage.blogspot.com/2018/07/python-matplotlib_15.html))\n",
        "\n",
        "<img src=\"https://2.bp.blogspot.com/-wmilK_NQ5Eg/W0nxShHt-CI/AAAAAAAAwFE/aOc6Kc7FMvMHhlGlAvgBHMKvdfMhm_rxACLcBGAs/s640/gradientDescent2DAnime.gif\" widh=50% />"
      ]
    },
    {
      "cell_type": "markdown",
      "metadata": {
        "id": "J4pXxKm4DUQt",
        "colab_type": "text"
      },
      "source": [
        "#### **● Overfitting**\n",
        "[Regularization：減少 Overfitting ，提高模型泛化能力](https://ithelp.ithome.com.tw/articles/10203371)"
      ]
    },
    {
      "cell_type": "markdown",
      "metadata": {
        "id": "BG140_TMD26Y",
        "colab_type": "text"
      },
      "source": [
        "深度學習常遇到的問題是：難以概括看不見的數據。\n",
        "\n",
        "神經網絡具有大量的權重雖然可以很好地抓出訓練集中的特徵，卻也容易導致過度擬合的現象。\n",
        "\n",
        "若碰見資料不均的情況（例如在某些類別中沒有足夠的數據），雖然模型在訓練集的表現佳，但在測試集（即從未見過的數據）可能表現極差，表示此模型沒有足夠泛化（generalization）。\n",
        "\n",
        "這是機器學習中最佳化（optimization）和泛化（generalization）之間的 trade-off 。\n",
        "\n",
        "- 最佳化（optimization） 的目的是找到最小化訓練集損失的最佳參數。\n",
        "- 泛化（generalization） 則是說明了模型對看不見的數據的行為。\n",
        "\n",
        "<img src=\"https://ithelp.ithome.com.tw/upload/images/20181020/20112540PwCCbhGvkb.png\" width=\"50%\"/>\n",
        "\n"
      ]
    },
    {
      "cell_type": "markdown",
      "metadata": {
        "id": "Jlh1Iqd_FD93",
        "colab_type": "text"
      },
      "source": [
        "**。過擬合**，是指訓練的網路模型對驗證資料集的 Performance 很差，但對訓練資料集的 Performance 卻很好。可以從訓練過程的損失曲線圖來觀察是否有過擬合的現象。\n",
        "下圖，為模型訓練一段時間後，訓練資料集的損失值持續下降，但驗證資料集的損失值卻逐漸上昇。\n",
        "\n",
        "<img src=\"https://miro.medium.com/max/1000/1*nhmPdWSGh3ziatQKOmVq0Q.png\" width = \"40%\"/>\n"
      ]
    },
    {
      "cell_type": "markdown",
      "metadata": {
        "id": "nn_cKvpbFdTY",
        "colab_type": "text"
      },
      "source": [
        "**。產生 Overfitting 現象的原因：**\n",
        "\n",
        "    (1) 訓練資料太少\n",
        "    (2) 模型太複雜\n",
        "\n",
        "<img src=\"https://ithelp.ithome.com.tw/upload/images/20181020/20112540pwWk8r8sgN.png\" alt=\"alt\" width=40%//>\n",
        "<img src=\"https://cdn.analyticsvidhya.com/wp-content/uploads/2020/02/Screenshot-2020-02-06-at-11.09.13-768x438.png\" alt=\"alt\" width=40%/>"
      ]
    },
    {
      "cell_type": "markdown",
      "metadata": {
        "id": "6X3nGqA4vVQV",
        "colab_type": "text"
      },
      "source": [
        "**。改善方式：**\n",
        "\n",
        "- (1) 增加訓練資料 : Data augmentation\n",
        "\n",
        "    如果是圖片相關任務的話，我通常會用到 Data augmentation 的方式，它會增加本身數據的多樣性。由於收集資料是一個繁瑣而昂貴的過程，Data augmentation 在這邊就成為是另一種增加資料的替代方式。\n",
        "\n",
        "    <img src=\"https://ithelp.ithome.com.tw/upload/images/20181020/201125408UpR4lMmwe.png\" width=\"50%\" />   \n",
        "\n",
        "- (2) 縮減模型大小\n",
        "\n",
        "    Overfitting 某方面是呈現出目前模型太強大了，已知具有太多層和隱藏單元的神經網絡非常複雜，所以另一個避免 Overfitting 的方法是直接是減小模型的大小。同時這也能讓模型更輕，訓練、運行更快。\n",
        "\n",
        "- (3) 加入權重正規劃 (Weight Regularization) \n",
        "\n",
        "    原理是在 cost function 的後面增加一個懲罰項（代表對某些參數做一些限制），如果一個權重太大，將導致代價過大，因此在反向傳播後就會對該權重進行懲罰，使其保持在一個較小的值。例如：常見的 L1 Regularization 和 L2 Regularization 的公式：\n",
        "\n",
        "  <img src=\"https://ithelp.ithome.com.tw/upload/images/20181020/20112540VrnO6drorl.png\" width=\"50%\" />\n",
        "\n",
        "- (4) 加入 Dropout\n",
        "\n",
        "    Dropout 是在模型每次訓練時，隨機捨棄模型中部份參數。透過减少神經網絡的層數、神經元個數等方式，可以限制神經網絡的擬合能力，而 Dropout 的處理方式是隨機關閉一些神經元，如下圖：\n",
        "\n",
        "  <img src=\"https://ithelp.ithome.com.tw/upload/images/20181020/20112540tmJNZsQIY1.png\" width=\"50%\" />\n",
        "\n",
        "- (5) Early Stopping\n",
        "\n",
        "    在每一個 epoch 結束時計算驗證集（validation data）的準確率，當準確率不再提高就停止訓練。這是一個很常用的方法，好處是解決手動設置 epoch 數的問題（節省訓練模型時間），還能防止 overfitting。\n",
        "\n",
        "    <img src=\"https://ithelp.ithome.com.tw/upload/images/20181020/201125409R1NrCMHr6.png\" width=\"50%\" />\n",
        "\n",
        " "
      ]
    },
    {
      "cell_type": "markdown",
      "metadata": {
        "id": "iApCV_aBDgBI",
        "colab_type": "text"
      },
      "source": [
        "# **<font color=\"DARKSLATEBLUE\">Chapter 6、深度學習之神經網路結構 (Deep Learning - Neural Network)<font/>**\n",
        "\n",
        "---\n",
        "Chapter 6、深度學習之神經網路結構 (Deep Learning - Neural Network)\n"
      ]
    },
    {
      "cell_type": "markdown",
      "metadata": {
        "id": "Z5ziRyF9DqDy",
        "colab_type": "text"
      },
      "source": [
        "\n",
        "深度學習又是機器學習的分支，深度學習是人工智慧中，成長最快的領域，深度學習模擬人類神經網絡的運作方式，常見的深度學習架構，如\n",
        "\n",
        "- 多層感知器 MLP(Multilayer Perceptron)、\n",
        "- 深度神經網路 DNN(Deep Neural Network)、\n",
        "- 卷積神經網路 CNN(Convolutional Neural Network)、\n",
        "- 遞迴神經網路 RNN(Recurrent Neural Network)、\n",
        "- 圖網路 GNN(Graph Neural Network)。\n"
      ]
    },
    {
      "cell_type": "markdown",
      "metadata": {
        "id": "MgKG4ucJ0Wej",
        "colab_type": "text"
      },
      "source": [
        "## **6.1 DNN**"
      ]
    },
    {
      "cell_type": "markdown",
      "metadata": {
        "id": "ubyIXGydv7CW",
        "colab_type": "text"
      },
      "source": [
        "<img src=\"https://pic.pimg.tw/jakesheu/1544003168-278864291.jpg\" width=\"50%\">"
      ]
    },
    {
      "cell_type": "markdown",
      "metadata": {
        "id": "XKKgwMkboxEX",
        "colab_type": "text"
      },
      "source": [
        "EX6.1.1 KC House Sales Price Preidiction (Use DNN model) & overfitting example\n",
        "\n",
        "Regression\n",
        "\n",
        "[**>>KC House Sales Price Pridiction sample code**](https://github.com/andyrkchang/THU_IE_AI_PROGRAM/blob/master/DL/DNN_KC_HouseSalesPricePredict.ipynb)"
      ]
    },
    {
      "cell_type": "markdown",
      "metadata": {
        "id": "aI4tK12qjW-X",
        "colab_type": "text"
      },
      "source": [
        "EX6.1.2 \n",
        "\n",
        "Classification\n",
        "\n",
        ">>"
      ]
    },
    {
      "cell_type": "markdown",
      "metadata": {
        "id": "LRgFYNlyz4rQ",
        "colab_type": "text"
      },
      "source": [
        "## **6.2 CNN**\n",
        "\n",
        "[Reference](https://chtseng.wordpress.com/2017/09/12/%E5%88%9D%E6%8E%A2%E5%8D%B7%E7%A9%8D%E7%A5%9E%E7%B6%93%E7%B6%B2%E8%B7%AF/)"
      ]
    },
    {
      "cell_type": "markdown",
      "metadata": {
        "id": "55jrtzpuPGqJ",
        "colab_type": "text"
      },
      "source": [
        "### **6.2.1 卷積神經網路簡介 (Convolutional neural network，CNN)**"
      ]
    },
    {
      "cell_type": "markdown",
      "metadata": {
        "id": "RpPzqCefd1Nk",
        "colab_type": "text"
      },
      "source": [
        "6.2.1 卷積神經網路簡介 (Convolutional neural network，CNN) \n",
        "\n",
        "CNN 主要是對影像做局部的特徵做擷取，而每一層卷積負責檢測的特徵都不同，像是前面的捲積層檢測低階的特徵 (線條、顏色、紋路)，後面的捲積層檢測高階具體的特徵 (眼睛、鼻子、手等)，在 CNN 做完特徵擷取後，通常會透過全連結層 (Fully Connected Layer) 進行分類。例如：花分類為玫瑰花、茉莉花、子鵑花。狗分類為杜冰狗、牧羊犬。"
      ]
    },
    {
      "cell_type": "markdown",
      "metadata": {
        "id": "A1ZcRtN_LxCu",
        "colab_type": "text"
      },
      "source": [
        "傳統的DNN（即Deep neural network，泛指一般的深度學習網路）最大問題在於它會忽略資料的形狀。例如，輸入影像的資料時，該data通常包含了水平、垂直、color channel等三維資訊，但傳統DNN的輸入處理必須是平面的、也就是須一維的資料，即是 Fully Connected。還記得我們之前舉例過用DNN來分類MNIST手寫數字集嗎？其影像資訊是水平28 pixels、垂直28 pixels、color channel=1，即(1, 28, 28)的形狀，但輸入DNN時，所有dataset必須轉為一維，欄位數為784的dataset。\n",
        "\n",
        "因此，若去除了這些形狀資訊，就代表失去了一些重要的空間資料，像不同影像但類似的空間可能有著相似的像素值，RGB不同的channel之間也可能具有某些關連性、而遠近不同的像素彼此也應具有不同的關聯性，而這些資訊只有在三維形狀中才能保留下來。\n",
        "\n",
        "因此，Deep learning中的CNN較傳統的DNN多了Convolutional（卷積）及池化（Pooling） 兩層layer，用以維持形狀資訊並且避免參數大幅增加。在加入此兩層後，我們所看到的架構就如下圖分別有兩層的卷積和池化層，以及一個全連結層（即傳統的DNN），最後再使用Softmax activation function來輸出分類結果。"
      ]
    },
    {
      "cell_type": "markdown",
      "metadata": {
        "id": "2nNFGj0cf1v6",
        "colab_type": "text"
      },
      "source": [
        "### **6.2.2 卷積神經網路架構**"
      ]
    },
    {
      "cell_type": "markdown",
      "metadata": {
        "id": "6bCAVDP7Z1pP",
        "colab_type": "text"
      },
      "source": [
        "<img src=\"https://upload.wikimedia.org/wikipedia/commons/thumb/6/63/Typical_cnn.png/593px-Typical_cnn.png\" width=\"80%\" />"
      ]
    },
    {
      "cell_type": "markdown",
      "metadata": {
        "id": "wubMVRabf8Ms",
        "colab_type": "text"
      },
      "source": [
        "### **6.2.3 Convolution Layer**"
      ]
    },
    {
      "cell_type": "markdown",
      "metadata": {
        "id": "LfX-LGI0MZ7i",
        "colab_type": "text"
      },
      "source": [
        "Convolutional layer (或稱為 Filter layer)\n",
        "\n",
        "CNN的Convolution layer主要目的就是在保留圖像的空間排列並取得局部圖像作為輸入特徵。(Feature Map)\n",
        "\n",
        "使用傳統的深度學習網路(例如全連接層)來識別圖像，是將原本二維的圖片打平成一維，然後再將每個像素視為一個特徵值丟入DNN架構進行分析，因此這些輸入的像素已經丟失了原有的空間排列資訊。\n",
        "\n",
        "Convolution原理是透過一個指定尺寸的window，由上而下依序滑動取得圖像中各局部特徵作為下一層的輸入，這個sliding window 在 CNN 中稱為稱為 Convolution kernel。這個滑動視窗的方法是不是很熟悉？的確，Convolution kernel其實不是新技術，它在我們之前的影像處理技術中經常應用到，例如Opencv的模糊化、邊緣或輪廓偵測…等都是透過kernel window來進行，只是CNN利用此方式來取得圖像中各局部的區域加總計算後，透過 ReLU activation function輸出為特徵值再提供給下一層使用。"
      ]
    },
    {
      "cell_type": "markdown",
      "metadata": {
        "id": "jdBpBauyMp26",
        "colab_type": "text"
      },
      "source": [
        "下面用較簡單的binary的黑白圖片為例說明。假設我們有一張5×5黑白圖片（其維度為5x5x1），使用3×3的kernel window 進行卷積（該kernel維度為3x3x1）。\n",
        "\n",
        "<img src=\"https://chtseng.files.wordpress.com/2017/09/4293_xo61k8hqbw.png?w=611&zoom=2\" width=\"50%\"/>"
      ]
    },
    {
      "cell_type": "markdown",
      "metadata": {
        "id": "ytUW4IkCND-U",
        "colab_type": "text"
      },
      "source": [
        "在這卷積的過程中，如果binary的黑白圖片中有一個形狀與該kernel所表示的形狀類似（即kernel中大於0的格子），就會產生激勵效果，兩者相乘的乘積會變成更大或更小的數。如下圖所示，kernel由左至右由上而下滑動會得到9組圖形。\n",
        "\n",
        "<img src=\"https://chtseng.files.wordpress.com/2017/09/4293_y4guzm1rtq.png?w=612&zoom=2\" width=\"50%\"/> \n",
        "\n",
        "左上角九宮格\n",
        "\n",
        "<font color=\"red\">1 * 0 + 0 * 1 + 1 * 1</font>\n",
        "\n",
        "<font color=\"red\">1 * 1 + 0 * 1 + 1 * 0</font>\n",
        "\n",
        "<font color=\"red\">0 * 0 + 0 * 0 + 0 * 1    sum = 2, ReLU f(2) = 2 </font>\n",
        "\n",
        "接下來，再經過ReLU函數處理，將小於0的值輸出為0，大於0則直接輸出，此結果即為所謂的feature map，此feature map上的每一點皆可視為原圖形中該區域的特徵並傳遞給下一層，CNN的卷積層就是專注在取得圖形的這些局部特徵。\n",
        "<img src=\"https://chtseng.files.wordpress.com/2017/09/4293_sp9f7chpzq.png?w=456&zoom=2\" width=\"50%\"/>\n"
      ]
    },
    {
      "cell_type": "markdown",
      "metadata": {
        "id": "_MhUj2cfP5uM",
        "colab_type": "text"
      },
      "source": [
        "由於範例中kernel是逐步移動一格，因此我們稱其 **stride** 步長為一（這個值是定義CNN時的hyperparameter之一哦!），如果我們把stride加大，那麼涵蓋的特徵會比較少，但速度較快，得出的feature map更小。此外，在上例中，您會發現最後得到的feature map比起原圖要小，此種情況稱為 **valid padding**，如果我們希望輸出的是與原圖同等大小的圖形，那麼就需要在原圖周圍補上0（如下圖所示），此種於周圍補零的方式則稱為 **zero-padding**。zero-padding除了可維持輸出圖形大小不變之外，也有抑制圖像邊緣的效果，因為一般情況下我們認為圖像的中間部分比起周圍更重要。\n",
        "\n",
        "<img src=\"https://chtseng.files.wordpress.com/2017/09/4293_b_93gy3vhq.png?w=618&zoom=2\" width=\"80%\"/>"
      ]
    },
    {
      "cell_type": "markdown",
      "metadata": {
        "id": "gxEEZnphgIq9",
        "colab_type": "text"
      },
      "source": [
        "### **6.2.4 Pooling Layer**"
      ]
    },
    {
      "cell_type": "markdown",
      "metadata": {
        "id": "LRuoDc9QPkDf",
        "colab_type": "text"
      },
      "source": [
        "Pooling layer\n",
        "\n",
        "Pooling layer稱為池化層，它的功能很單純，就是將輸入的圖片尺寸縮小（大部份為縮小一半）以減少每張feature map維度並保留重要的特徵，其好處有：\n",
        "\n",
        "減少後續layer需要參數，加快系統運作的效率。\n",
        "具有抗干擾的作用：圖像中某些像素在鄰近區域有微小偏移或差異時，對Pooling layer的輸出影響不大，結果仍是不變的。\n",
        "減少過度擬合over-fitting的情況。\n",
        "與卷積層相同，池化層會使用kernel來取出各區域的值並運算，但最後的輸出並不透過Activate function（卷積層使用的function是ReLU）。另外，池化層用來縮小圖像尺寸的作法主要有三種：\n",
        "- 最大化（Max-Pooling）、\n",
        "- 平均化（Mean-Pooling）、\n",
        "- 隨機（Stochastic-Pooling）…等，\n",
        "\n",
        "以Max-pooling為例，作法說明如下：\n",
        "\n",
        "<img src=\"https://chtseng.files.wordpress.com/2017/09/4293_x60vk-qfqw.png?w=611&zoom=2\" width=\"50%\"/>"
      ]
    },
    {
      "cell_type": "markdown",
      "metadata": {
        "id": "zSo9GTAYgN7L",
        "colab_type": "text"
      },
      "source": [
        "### **6.2.5 Full Connected Layer**"
      ]
    },
    {
      "cell_type": "markdown",
      "metadata": {
        "id": "unjxLbVlPk3D",
        "colab_type": "text"
      },
      "source": [
        "Full connected layer\n",
        "\n",
        "Full connected layer指的就是一般的神經網路，您可以參考之前的Neural Networks系列的知識文件。\n",
        "\n",
        "前面提到的卷積和池化層，其最主要的目的分別是提取特徵及減少圖像參數，然後將特徵資訊丟到Full connected layer來進行分類，其神經元只與上一層kernel的像素連結，而且各連結的權重在同層中是相同且共享的，然而Full connected layer的每個神經元與上層神經元之間彼此相連接，各個連結都有其獨立且相異的權重值，這個現象造成Full connected layer會耗用相當多的運算資源。例如有個圖像其尺寸是1000×1000，那麼在第一層就會有100萬個像素維度（1000×1000），到了下一層隱藏層，將會double成一萬億個帶有不同權重的連結(即100萬的平方)，因此Full connected layer的運算成本（Memory 、CPU或GPU）相較於卷積與池化相當昂貴，這是在設計網路架構時必須考慮的，如下方圖形所示，左側的Full connected layer每個神經元的連結數是右側Convolution layer的好幾倍。\n",
        "\n",
        "<img src=\"https://chtseng.files.wordpress.com/2017/09/4293_pojwihsvag.png?w=612&zoom=2\" width=\"50%\"/>"
      ]
    },
    {
      "cell_type": "markdown",
      "metadata": {
        "id": "75riqM7FT_36",
        "colab_type": "text"
      },
      "source": [
        "### **6.2.6 扁平層 (Flatten Layer)**"
      ]
    },
    {
      "cell_type": "markdown",
      "metadata": {
        "id": "lN9Z8J1oR_BY",
        "colab_type": "text"
      },
      "source": [
        "\n",
        "\n",
        "扁平層大部分使用在卷積層與全連結層之間，作為兩層之間的橋樑，負責將卷積層擷取到的多維特徵張量 (Input)拉平成一維特徵張量 (Output)，並傳入全連接層做分類。如下圖，二維張量，拉平成九維的向量 (一維張量)\n",
        "\n",
        "<img src=\"https://miro.medium.com/max/1348/1*Ay5Bd0sPxfD9jJMSpkNW9A.png\" width=\"50%\"/>"
      ]
    },
    {
      "cell_type": "markdown",
      "metadata": {
        "id": "4GBG3_8MgRQ9",
        "colab_type": "text"
      },
      "source": [
        "### **6.2.7 卷積神經網路原理**"
      ]
    },
    {
      "cell_type": "markdown",
      "metadata": {
        "id": "IUO0JxY3UJxX",
        "colab_type": "text"
      },
      "source": [
        ""
      ]
    },
    {
      "cell_type": "markdown",
      "metadata": {
        "id": "XQfWsBp2ecCG",
        "colab_type": "text"
      },
      "source": [
        "#### Smoothing Image\n",
        "\n",
        "[OpenCV](https://opencv-python-tutroals.readthedocs.io/en/latest/py_tutorials/py_imgproc/py_filtering/py_filtering.html)"
      ]
    },
    {
      "cell_type": "code",
      "metadata": {
        "id": "_sfTam6OV6f8",
        "colab_type": "code",
        "colab": {
          "base_uri": "https://localhost:8080/",
          "height": 33
        },
        "outputId": "7811ea9f-c12e-4c66-e414-431f7118c5c4"
      },
      "source": [
        "import numpy as np\n",
        "import cv2\n",
        "\n",
        "# 讀取圖檔\n",
        "img = cv2.imread(datafilepath + 'Dog.jpg')\n",
        "\n",
        "# 查看資料型態\n",
        "type(img)"
      ],
      "execution_count": 24,
      "outputs": [
        {
          "output_type": "execute_result",
          "data": {
            "text/plain": [
              "numpy.ndarray"
            ]
          },
          "metadata": {
            "tags": []
          },
          "execution_count": 24
        }
      ]
    },
    {
      "cell_type": "code",
      "metadata": {
        "id": "UOs40OZGZ3Yg",
        "colab_type": "code",
        "colab": {
          "base_uri": "https://localhost:8080/",
          "height": 33
        },
        "outputId": "bd3be32f-6f08-4571-f8f7-7b781fcded15"
      },
      "source": [
        "img.shape"
      ],
      "execution_count": 25,
      "outputs": [
        {
          "output_type": "execute_result",
          "data": {
            "text/plain": [
              "(1081, 1920, 3)"
            ]
          },
          "metadata": {
            "tags": []
          },
          "execution_count": 25
        }
      ]
    },
    {
      "cell_type": "code",
      "metadata": {
        "id": "sgITIbccY2fw",
        "colab_type": "code",
        "colab": {
          "base_uri": "https://localhost:8080/",
          "height": 71
        },
        "outputId": "8c5365c1-17c9-40ac-8296-a2595b58faef"
      },
      "source": [
        "from google.colab.patches import cv2_imshow\n",
        "\n",
        "new_img = cv2.resize(img, (96, 54))\n",
        "# 顯示圖片\n",
        "cv2_imshow(new_img)\n"
      ],
      "execution_count": 36,
      "outputs": [
        {
          "output_type": "display_data",
          "data": {
            "image/png": "[encoded data removed]",
            "text/plain": [
              "<PIL.Image.Image image mode=RGB size=96x54 at 0x7F77CDADA208>"
            ]
          },
          "metadata": {
            "tags": []
          }
        }
      ]
    },
    {
      "cell_type": "markdown",
      "metadata": {
        "id": "IBFZvmyQeCF-",
        "colab_type": "text"
      },
      "source": [
        "**Smoothing Images**\n",
        "\n",
        "OpenCV provides a function, cv2.filter2D(), to convolve a kernel with an image. As an example, we will try an averaging filter on an image. A 5x5 averaging filter kernel can be defined as follows:\n",
        "\n",
        "<img src=\"https://opencv-python-tutroals.readthedocs.io/en/latest/_images/math/220e403e44b16ea8e05d350c4ce69e9aedff5bd1.png\" width =\"20%\"/>"
      ]
    },
    {
      "cell_type": "code",
      "metadata": {
        "id": "niAtbiYdci0W",
        "colab_type": "code",
        "colab": {
          "base_uri": "https://localhost:8080/",
          "height": 125
        },
        "outputId": "67635e91-df10-4417-9fa8-d0167cc12499"
      },
      "source": [
        "import cv2\n",
        "import numpy as np\n",
        "from matplotlib import pyplot as plt\n",
        "\n",
        "kernel = np.ones((5,5),np.float32)/25\n",
        "dst = cv2.filter2D(new_img,-1,kernel)\n",
        "\n",
        "cv2_imshow(new_img)\n",
        "cv2_imshow(dst)\n",
        "plt.show()\n"
      ],
      "execution_count": 43,
      "outputs": [
        {
          "output_type": "display_data",
          "data": {
            "image/png": "[encoded data removed]",
            "text/plain": [
              "<PIL.Image.Image image mode=RGB size=96x54 at 0x7F77CB944E10>"
            ]
          },
          "metadata": {
            "tags": []
          }
        },
        {
          "output_type": "display_data",
          "data": {
            "image/png": "[encoded data removed]",
            "text/plain": [
              "<PIL.Image.Image image mode=RGB size=96x54 at 0x7F77CB949198>"
            ]
          },
          "metadata": {
            "tags": []
          }
        }
      ]
    },
    {
      "cell_type": "code",
      "metadata": {
        "id": "6OqpF5OPetEK",
        "colab_type": "code",
        "colab": {
          "base_uri": "https://localhost:8080/",
          "height": 125
        },
        "outputId": "790b83cf-e953-4ed8-e446-321c0baf6c08"
      },
      "source": [
        "blur = cv2.blur(new_img,(5,5))\n",
        "\n",
        "cv2_imshow(new_img)\n",
        "cv2_imshow(blur)\n",
        "plt.show()"
      ],
      "execution_count": 44,
      "outputs": [
        {
          "output_type": "display_data",
          "data": {
            "image/png": "[encoded data removed]",
            "text/plain": [
              "<PIL.Image.Image image mode=RGB size=96x54 at 0x7F77CDB37940>"
            ]
          },
          "metadata": {
            "tags": []
          }
        },
        {
          "output_type": "display_data",
          "data": {
            "image/png": "[encoded data removed]",
            "text/plain": [
              "<PIL.Image.Image image mode=RGB size=96x54 at 0x7F77CE1796A0>"
            ]
          },
          "metadata": {
            "tags": []
          }
        }
      ]
    },
    {
      "cell_type": "markdown",
      "metadata": {
        "id": "X92fs3ajUUh2",
        "colab_type": "text"
      },
      "source": [
        "### **6.2.8 Sample Case**"
      ]
    },
    {
      "cell_type": "markdown",
      "metadata": {
        "colab_type": "text",
        "id": "Uv5lk0oHz7gB"
      },
      "source": [
        "Ex6.2.1. MNIST CNN Model exercise - use Keras Sequential Model to build a CNN Model\n",
        "\n",
        "\n",
        "\n",
        "[**>>MNIST Keras CNN Model sample Code for Google Colab**](https://github.com/andyrkchang/THU_IE_AI_PROGRAM/blob/master/DL/CNN_MNIST_Keras_TVT.ipynb.ipynb)"
      ]
    },
    {
      "cell_type": "markdown",
      "metadata": {
        "colab_type": "text",
        "id": "p0J0W1ET0D_5"
      },
      "source": [
        "Ex6.2.2. pytorch CNN Model\n",
        "\n",
        "[**>> MNIST pytorch CNN Model sample code for Google Colab**](https://github.com/andyrkchang/THU_IE_AI_PROGRAM/blob/master/DL/MNIST_pytorch_CNN_v2.ipynb)"
      ]
    },
    {
      "cell_type": "markdown",
      "metadata": {
        "id": "XMyjJdZCgi4x",
        "colab_type": "text"
      },
      "source": [
        "Ex6.2.3 Image Classification"
      ]
    },
    {
      "cell_type": "markdown",
      "metadata": {
        "id": "gb9Btyr19KM5",
        "colab_type": "text"
      },
      "source": [
        "# **<font color=\"DARKSLATEBLUE\">Chapter 7、遷移學習 (Transfer Learning)<font/>**\n",
        "\n",
        "---\n",
        "Chapter 7、遷移學習 (Transfer Learning)\n"
      ]
    },
    {
      "cell_type": "markdown",
      "metadata": {
        "id": "MDVzBbzf9KgV",
        "colab_type": "text"
      },
      "source": [
        ""
      ]
    },
    {
      "cell_type": "markdown",
      "metadata": {
        "colab_type": "text",
        "id": "qA0AabuZ9CZp"
      },
      "source": [
        "# **<font color=\"DARKSLATEBLUE\">Chapter 8、GAN(Generative Adversarial Network，生成對抗網路)<font/>**\n",
        "\n",
        "---\n",
        "Chapter 8、GAN(Generative Adversarial Network，生成對抗網路)\n"
      ]
    },
    {
      "cell_type": "markdown",
      "metadata": {
        "colab_type": "text",
        "id": "l1fzWFXD9CZq"
      },
      "source": [
        "### EX1. pytorch GAN Model to generate MNIST image \n",
        "\n",
        "[>> MNIST GAN Model sample code for Google Colab](https://github.com/andyrkchang/THU_IE_AI_PROGRAM/blob/master/DL/MNIST_pytorch_GAN_v1.ipynb)"
      ]
    },
    {
      "cell_type": "markdown",
      "metadata": {
        "colab_type": "text",
        "id": "1-dJGxSk85O1"
      },
      "source": [
        "# **<font color=\"DARKSLATEBLUE\">Chapter 9、強化學習(Reinforcement Learning)<font/>**\n",
        "\n",
        "---\n",
        "Chapter 9、強化學習(Reinforcement Learning)\n"
      ]
    },
    {
      "cell_type": "markdown",
      "metadata": {
        "colab_type": "text",
        "id": "y73fHpOs85O3"
      },
      "source": [
        "**。Policy (Action) Environment (Reward)**\n",
        "\n",
        "    1. Agent\n",
        "    2. Environment\n",
        "    3. Brain"
      ]
    },
    {
      "cell_type": "markdown",
      "metadata": {
        "id": "jkGEU08f8zQv",
        "colab_type": "text"
      },
      "source": [
        "# **<font color=\"DARKSLATEBLUE\">Chapter 10、Deep Learning Develop Platform<font/>**\n",
        "\n",
        "---\n",
        "Chapter 10、Deep Learning Develop Platform\n"
      ]
    },
    {
      "cell_type": "markdown",
      "metadata": {
        "id": "I8qs_w_WKPXe",
        "colab_type": "text"
      },
      "source": [
        "## 10.1  以 Tensorflow 建置深度學習 (Deep Learning) ★\n",
        "\n",
        "---\n",
        "<img  src=\"https://www.gstatic.com/devrel-devsite/prod/v050cadc3f3cf927d4089880349cc4dea1a9dab3bc6036e7a65cc361fddd65555/tensorflow/images/lockup.svg\" alt=\"alt\" width=\"20%\"  /> \n",
        "[tensorflow : An end-to-end open source machine learning platform](https://www.tensorflow.org/)\n",
        "\n"
      ]
    },
    {
      "cell_type": "markdown",
      "metadata": {
        "id": "jRscWcIYLBe5",
        "colab_type": "text"
      },
      "source": [
        ""
      ]
    },
    {
      "cell_type": "markdown",
      "metadata": {
        "id": "Kezt8w8xok17",
        "colab_type": "text"
      },
      "source": [
        "## 10.2  以 Keras 建置深度學習 (Deep Learning) ★\n",
        "\n",
        "\n",
        "---\n",
        "Keras 是 Francois Chole 於 2014 年開始編寫的開源高階深度學習 API，主要用於快速搭建和訓練網路模型。Keras 本身並沒有運算能力，它是執行在 Tensorflow、CNTK、和 Theano 等深度學習開源套件上。(以下 Code Sample 為 Tensorflow 2.0)\n",
        "\n",
        "<img src = \"https://keras.io/img/logo.png\" alt=\"alt\" width=\"20%\"/> \n",
        "[Keras: the Python deep learning API](https://keras.io/)\n"
      ]
    },
    {
      "cell_type": "markdown",
      "metadata": {
        "id": "ZOKBl6AiKF4f",
        "colab_type": "text"
      },
      "source": [
        "<img src = \"https://jason-chen-1992.weebly.com/uploads/1/0/8/5/108557741/keras_orig.png\" alt=\"alt\" width=\"50%\"/>"
      ]
    },
    {
      "cell_type": "markdown",
      "metadata": {
        "id": "MCT84m8okzwC",
        "colab_type": "text"
      },
      "source": [
        "\n",
        "\n",
        "\n",
        "\n",
        "**• Kera 網路搭建方法：**\n",
        "\n",
        "    。Sequencail Model (序列模型)\n",
        "    。Function API (函數式模型)\n",
        "\n",
        "**• Kera 網路搭建 Key Word：**\n",
        "\n",
        "    。Dense：搭建全連階層指令\n",
        "    。Conv2d：搭建卷積層指令\n",
        "    。Flatten：將輸入攤平，reshape 成一維張張量，大都使用在卷積層與全連接層之間。\n",
        "    。Add：將兩個層的輸出加在一起。\n",
        "    。Contactenate：將兩個層的輸出於指定的維度進行串聯 (conact)，這種方法相較於 Add，保留更多資訊量，但計算量大。"
      ]
    },
    {
      "cell_type": "markdown",
      "metadata": {
        "id": "j6EsXpgOrZ6z",
        "colab_type": "text"
      },
      "source": [
        "### **。Sequencail Model (序列模型)**\n",
        "\n",
        "是一個簡單搭建網路的方法，可以解決大多數的問題及應用，例如：手寫數字辨識、房價預測或評論分類等。但 Sequential Model 搭建方法有限制，必須逐層依序搭建網路，且網路模型必須為 \"單個輸入層和單個輸出層\"。\n",
        "\n"
      ]
    },
    {
      "cell_type": "markdown",
      "metadata": {
        "id": "luqkfdxK-Gbr",
        "colab_type": "text"
      },
      "source": [
        "#### EX1 & Ex2 Using Keras Sequential Model to Build a DNN Model\n"
      ]
    },
    {
      "cell_type": "markdown",
      "metadata": {
        "id": "Rm4ggHhfAFIK",
        "colab_type": "text"
      },
      "source": [
        "<img src=\"https://jason-chen-1992.weebly.com/uploads/1/0/8/5/108557741/dnn-for-mnist_1_orig.png\" alt=\"alt\" width=\"60%\"/>"
      ]
    },
    {
      "cell_type": "markdown",
      "metadata": {
        "id": "nrc07jNZAWhY",
        "colab_type": "text"
      },
      "source": [
        "##### Ex1 :"
      ]
    },
    {
      "cell_type": "code",
      "metadata": {
        "id": "jDTXiW6195ie",
        "colab_type": "code",
        "colab": {}
      },
      "source": [
        "''' Import Tensorflow using keras to build a DL model '''\n",
        "import tensorflow as tf\n",
        "from tensorflow import keras\n",
        "from tensorflow.keras import layers\n",
        "from tensorflow.keras.utils import plot_model\n",
        "from IPython.display import Image"
      ],
      "execution_count": 0,
      "outputs": []
    },
    {
      "cell_type": "code",
      "metadata": {
        "id": "zjMnXi5W-cTq",
        "colab_type": "code",
        "colab": {}
      },
      "source": [
        "''' Build the Model by Sequential'''\n",
        "\n",
        "# 在 Keras 裡面我們可以很簡單的使用 Sequential 的方法建建立一個 Model\n",
        "model = keras.Sequential(name='Sequential')\n",
        "\n",
        "# 加入 hidden layer-1 of 512 neurons 並指定 input_dim 為 784 & 使用 'relu' 當作 activation function\n",
        "model.add(layers.Dense(512, activation='relu', input_shape=(784,)))\n",
        "\n",
        "# 加入 hidden layer-2 of 256 neurons  & 使用 'relu' 當作 activation function\n",
        "model.add(layers.Dense(256, activation='relu'))\n",
        "\n",
        "# 加入 hidden layer-3 of 128 neurons  & 使用 'relu' 當作 activation function\n",
        "model.add(layers.Dense(128, activation='relu'))\n",
        "\n",
        "# 加入 output layer of 10 neurons & 使用 'softmax' 當作 activation function\n",
        "model.add(layers.Dense(10, activation='softmax'))\n"
      ],
      "execution_count": 0,
      "outputs": []
    },
    {
      "cell_type": "markdown",
      "metadata": {
        "id": "zNpTC9FGAbhc",
        "colab_type": "text"
      },
      "source": [
        "Ex2 :"
      ]
    },
    {
      "cell_type": "code",
      "metadata": {
        "id": "vrLCu_UHAbHx",
        "colab_type": "code",
        "colab": {}
      },
      "source": [
        "model = tf.keras.Sequential([layers.Dense(512, activation='relu', input_shape=(784,)),\n",
        "                             layers.Dense(256, activation='relu'), \n",
        "                             layers.Dense(128, activation='relu'), \n",
        "                             layers.Dense(10, activation='softmax')])"
      ],
      "execution_count": 0,
      "outputs": []
    },
    {
      "cell_type": "code",
      "metadata": {
        "id": "CaSY2YCY-nB3",
        "colab_type": "code",
        "outputId": "a891ed75-5b62-45b2-cecd-8d7376cbf19a",
        "colab": {
          "base_uri": "https://localhost:8080/",
          "height": 483
        }
      },
      "source": [
        "print(model)\n",
        "\n",
        "# 產生網絡拓撲圖\n",
        "plot_model(model, to_file='Sequential_Model.png')\n",
        "\n",
        "# 秀出網絡拓撲圖\n",
        "Image('Sequential_Model.png')"
      ],
      "execution_count": 0,
      "outputs": [
        {
          "output_type": "stream",
          "text": [
            "<tensorflow.python.keras.engine.sequential.Sequential object at 0x7fdb00c0f0f0>\n"
          ],
          "name": "stdout"
        },
        {
          "output_type": "execute_result",
          "data": {
            "image/png": "[encoded data removed]",
            "text/plain": [
              "<IPython.core.display.Image object>"
            ]
          },
          "metadata": {
            "tags": []
          },
          "execution_count": 7
        }
      ]
    },
    {
      "cell_type": "markdown",
      "metadata": {
        "id": "D3rH7yQvnAem",
        "colab_type": "text"
      },
      "source": [
        ""
      ]
    },
    {
      "cell_type": "markdown",
      "metadata": {
        "id": "m02u45-TFCcA",
        "colab_type": "text"
      },
      "source": [
        ""
      ]
    },
    {
      "cell_type": "markdown",
      "metadata": {
        "id": "CiqVVA8iJJ-H",
        "colab_type": "text"
      },
      "source": [
        "#### Ex3. MNIST CNN Model exercise - use Keras Sequential Model to build a CNN Model\n",
        "\n",
        "\n",
        "\n",
        "[**>>MNIST Keras CNN Model sample Code for Google Colab**](https://github.com/andyrkchang/THU_IE_AI_PROGRAM/blob/master/DL/CNN_MNIST_Keras_TVT.ipynb.ipynb)"
      ]
    },
    {
      "cell_type": "markdown",
      "metadata": {
        "id": "vQWvFIktr3nk",
        "colab_type": "text"
      },
      "source": [
        "### **。Function API (函數式模型)**\n",
        "\n",
        "Keras 中的 Functional API 提供更多靈活性，來建立更複雜網路模型，例如：Multi Input Model, Multi Output Model, Multi Input and Output Model 等等。Functional API 在使用上非常靈活，例如使用於更進階的應用\n",
        "\n",
        "    。物件偵測 (Object Detection)\n",
        "    。影像分割 (Image Segmentation)\n",
        "    。生成對抗網路 (Generative Adversarial Network)\n"
      ]
    },
    {
      "cell_type": "markdown",
      "metadata": {
        "id": "lx1_10cd9b_s",
        "colab_type": "text"
      },
      "source": [
        "**1. Sample Network：**使用Functional API 一樣可以快速幾行代碼完成和上面Sequential Model 相同的架構。"
      ]
    },
    {
      "cell_type": "code",
      "metadata": {
        "id": "bHOOVzVI9PvV",
        "colab_type": "code",
        "outputId": "979c438d-4584-46ac-e0ef-d6c7863aaad7",
        "colab": {
          "base_uri": "https://localhost:8080/",
          "height": 369
        }
      },
      "source": [
        "inputs = keras.Input(shape=(784,), name='Input')\n",
        "hidden1 = layers.Dense(64, activation='relu', name='hidden1')(inputs)\n",
        "hidden2 = layers.Dense(64, activation='relu', name='hidden2')(hidden1)\n",
        "outputs = layers.Dense(10, activation='softmax', name='Output')(hidden2)\n",
        "\n",
        "model = keras.Model(inputs=inputs, outputs=outputs)\n",
        "\n",
        "# 產生網絡拓撲圖\n",
        "plot_model(model, to_file='Functional_API_Sample_Model.png')\n",
        "\n",
        "# 秀出網絡拓撲圖\n",
        "Image('Functional_API_Sample_Model.png')"
      ],
      "execution_count": 0,
      "outputs": [
        {
          "output_type": "execute_result",
          "data": {
            "image/png": "[encoded data removed]",
            "text/plain": [
              "<IPython.core.display.Image object>"
            ]
          },
          "metadata": {
            "tags": []
          },
          "execution_count": 3
        }
      ]
    },
    {
      "cell_type": "markdown",
      "metadata": {
        "id": "7gxcwpDy9s3l",
        "colab_type": "text"
      },
      "source": [
        "**2. Multi Input Model：**多輸入單輸出模型，下面的範例為商品價格預測，要預測商品價格，我們需要商品照片、品牌、使用狀況等等。而商品圖片和品牌我們可以經過不同層輸入並做不同的處理，網路架構如下。"
      ]
    },
    {
      "cell_type": "code",
      "metadata": {
        "id": "TVTKFo0b90q4",
        "colab_type": "code",
        "outputId": "19e4b4c7-a81e-4fe6-dad1-41f26ede79b7",
        "colab": {
          "base_uri": "https://localhost:8080/",
          "height": 661
        }
      },
      "source": [
        "img_input = keras.Input(shape=(28, 28, 1), name='Image_Input')\n",
        "info_input = keras.Input(shape=(1, ), name='Information_Input')\n",
        "\n",
        "hidden1_1 = layers.Conv2D(64, kernel_size=5, strides=2, activation='relu', name='hidden1_1')(img_input)\n",
        "hidden1_2 = layers.Conv2D(32, kernel_size=5, strides=2, activation='relu', name='hidden1_2')(hidden1_1)\n",
        "hidden1_2_ft= layers.Flatten()(hidden1_2)\n",
        "hidden1_3 = layers.Dense(64, activation='relu', name='hidden1_3')(info_input)\n",
        "concat = layers.Concatenate()([hidden1_2_ft, hidden1_3])\n",
        "hidden2 = layers.Dense(64, activation='relu', name='hidden2')(concat)\n",
        "outputs = layers.Dense(1, name='Output')(hidden2)\n",
        "\n",
        "model = keras.Model(inputs=[img_input, info_input], outputs=outputs)\n",
        "\n",
        "# 產生網絡拓撲圖\n",
        "plot_model(model, to_file='Functional_API_Multi_Input_Model.png')\n",
        "\n",
        "# 秀出網絡拓撲圖\n",
        "Image('Functional_API_Multi_Input_Model.png')"
      ],
      "execution_count": 0,
      "outputs": [
        {
          "output_type": "execute_result",
          "data": {
            "image/png": "[encoded data removed]",
            "text/plain": [
              "<IPython.core.display.Image object>"
            ]
          },
          "metadata": {
            "tags": []
          },
          "execution_count": 4
        }
      ]
    },
    {
      "cell_type": "markdown",
      "metadata": {
        "id": "gREaL8O597xr",
        "colab_type": "text"
      },
      "source": [
        "**3. Multi Output Network：** 單輸入多輸出模型，這種類型的架構在影響處理的領域很長看到，下面舉幾個常見多輸出模型應用例子。\n",
        "\n",
        "物件偵測：輸入一張圖像，預測物件位置與物件類別等。\n",
        "\n",
        "人像識別：輸入一張圖像，預測圖片中人的性別、年齡等。"
      ]
    },
    {
      "cell_type": "code",
      "metadata": {
        "id": "x-xUY0fJ-GpC",
        "colab_type": "code",
        "outputId": "48717be5-130f-495b-c7a8-87bcb8c99c81",
        "colab": {
          "base_uri": "https://localhost:8080/",
          "height": 564
        }
      },
      "source": [
        "inputs = keras.Input(shape=(28, 28, 1), name='Input')\n",
        "\n",
        "hidden1 = layers.Conv2D(64, kernel_size=3, activation='relu', name='hidden1')(inputs)\n",
        "hidden2 = layers.Conv2D(64, kernel_size=3, strides=2, activation='relu', name='hidden2')(hidden1)\n",
        "hidden3 = layers.Conv2D(64, kernel_size=3, strides=2, activation='relu', name='hidden3')(hidden2)\n",
        "flatten = layers.Flatten()(hidden3)\n",
        "\n",
        "age_output = layers.Dense(1, name='Age_Output')(flatten)\n",
        "gender_output = layers.Dense(1, name='Gender_Output')(flatten)\n",
        "\n",
        "model = keras.Model(inputs=inputs, outputs=[age_output, gender_output])\n",
        "\n",
        "# 產生網絡拓撲圖\n",
        "plot_model(model, to_file='Functional_API_Multi_Output_Model.png')\n",
        "\n",
        "# 秀出網絡拓撲圖\n",
        "Image('Functional_API_Multi_Output_Model.png')"
      ],
      "execution_count": 0,
      "outputs": [
        {
          "output_type": "execute_result",
          "data": {
            "image/png": "[encoded data removed]",
            "text/plain": [
              "<IPython.core.display.Image object>"
            ]
          },
          "metadata": {
            "tags": []
          },
          "execution_count": 5
        }
      ]
    },
    {
      "cell_type": "markdown",
      "metadata": {
        "id": "jlGH1cL0-MqX",
        "colab_type": "text"
      },
      "source": [
        "**4. Multi Input and Multi Output Network：**多輸入多輸出模型，例如天氣預測，輸入可能為當前的天氣資訊和衛星雲圖，而輸出就是降雨機率、溫度和濕度等。"
      ]
    },
    {
      "cell_type": "code",
      "metadata": {
        "id": "evxV-vb6-Sjx",
        "colab_type": "code",
        "outputId": "fb03567a-0b55-4a7a-ce81-20ef2ad0027c",
        "colab": {
          "base_uri": "https://localhost:8080/",
          "height": 661
        }
      },
      "source": [
        "image_inputs = keras.Input(shape=(28, 28, 1), name='Image_Input')\n",
        "hidden1 = layers.Conv2D(64, kernel_size=3, activation='relu', name='hidden1')(image_inputs)\n",
        "hidden2 = layers.Conv2D(64, kernel_size=3, strides=2, activation='relu', name='hidden2')(hidden1)\n",
        "hidden3 = layers.Conv2D(64, kernel_size=3, strides=2, activation='relu', name='hidden3')(hidden2)\n",
        "flatten = layers.Flatten()(hidden3)\n",
        "\n",
        "info_inputs = keras.Input(shape=(10, ), name='Info_Input')\n",
        "hidden4 = layers.Dense(64)(info_inputs)\n",
        "\n",
        "concat = layers.Concatenate()([flatten, hidden4])\n",
        "\n",
        "weather_outputs = layers.Dense(1, name='Output1')(concat)\n",
        "temp_outputs = layers.Dense(1, name='Output2')(concat)\n",
        "humidity_outputs = layers.Dense(1, name='Output3')(concat)\n",
        "\n",
        "model = keras.Model(inputs=[image_inputs, info_inputs], \n",
        "                    outputs=[weather_outputs, temp_outputs, humidity_outputs])\n",
        "\n",
        "# 產生網絡拓撲圖\n",
        "plot_model(model, to_file='Functional_API_Multi_Input_Multi_Output_Model.png')\n",
        "\n",
        "# 秀出網絡拓撲圖\n",
        "Image('Functional_API_Multi_Input_Multi_Output_Model.png')"
      ],
      "execution_count": 0,
      "outputs": [
        {
          "output_type": "execute_result",
          "data": {
            "image/png": "[encoded data removed]",
            "text/plain": [
              "<IPython.core.display.Image object>"
            ]
          },
          "metadata": {
            "tags": []
          },
          "execution_count": 6
        }
      ]
    },
    {
      "cell_type": "markdown",
      "metadata": {
        "id": "Gj4po5_-rxYK",
        "colab_type": "text"
      },
      "source": [
        "\n",
        "\n",
        "---\n",
        "\n"
      ]
    },
    {
      "cell_type": "markdown",
      "metadata": {
        "id": "ROcRPYz-bmsm",
        "colab_type": "text"
      },
      "source": [
        "## 10.3 以 pytorch 建置深度學習 (Deep Learning) ★\n",
        "---\n",
        "PyTorch is an open source machine learning framework that fast tracks the path from research prototyping to production deployment. It was primarily developed by Facebook’s artificial intelligence research group.\n",
        "\n",
        "<img src=\"https://www.educative.io/api/edpresso/shot/5890743479566336/image/4838123834966016\" alt=\"alt\" width=\"10%\" /> \n",
        "[Pytorch : FROM RESEARCH TO PRODUCTION](https://pytorch.org/)\n"
      ]
    },
    {
      "cell_type": "markdown",
      "metadata": {
        "id": "EQ9RWtGKJvgl",
        "colab_type": "text"
      },
      "source": [
        "。以 pytorch 建置深度學習 (Deep Learning) 的流程\n",
        "  1. 資料的前置處理\n",
        "  2. 建立 Data Loader\n",
        "  3. 建置神經網路模型\n",
        "  4. 設定誤差函數與最佳化手法\n",
        "  5. 設定訓練與推論\n",
        "  6. 執行訓練與推論\n",
        "  7. 儲存推論模型"
      ]
    },
    {
      "cell_type": "markdown",
      "metadata": {
        "id": "-IPcQPU_EhUE",
        "colab_type": "text"
      },
      "source": [
        "### Ex1. pytorch CNN Model\n",
        "\n",
        "[>> MNIST pytorch CNN Model sample code for Google Colab](https://github.com/andyrkchang/THU_IE_AI_PROGRAM/blob/master/DL/MNIST_pytorch_CNN_v2.ipynb)"
      ]
    },
    {
      "cell_type": "markdown",
      "metadata": {
        "id": "vGfuVmOhHD4W",
        "colab_type": "text"
      },
      "source": [
        "## 10.4 以 julia 建置深度學習 (Deep Learning) ★\n",
        "\n",
        "---\n",
        "<img src=\"https://julialang.org/assets/infra/logo.svg\" alt=\"alt\" width=\"10%\" /> \n",
        "[julia : A fresh approach to technical computing.](https://julialang.org/)"
      ]
    },
    {
      "cell_type": "markdown",
      "metadata": {
        "id": "9-y7Ud56Fwqo",
        "colab_type": "text"
      },
      "source": [
        "'  '"
      ]
    },
    {
      "cell_type": "markdown",
      "metadata": {
        "id": "z3hGKkBRuyeC",
        "colab_type": "text"
      },
      "source": [
        "# **<font color=\"DARKSLATEBLUE\">Appendix<font/>**\n",
        "\n",
        "---\n",
        "Appendix\n"
      ]
    },
    {
      "cell_type": "markdown",
      "metadata": {
        "id": "bjt2xHeAnE9L",
        "colab_type": "text"
      },
      "source": [
        "\n",
        "**Top 50 matplotlib visualization**\n",
        "\n",
        "https://www.machinelearningplus.com/plots/top-50-matplotlib-visualizations-the-master-plots-python/"
      ]
    },
    {
      "cell_type": "markdown",
      "metadata": {
        "id": "XD0AKyUijHhx",
        "colab_type": "text"
      },
      "source": [
        "**筆記 for Python (Google Colab + gspread)**\n",
        "\n",
        "類似 Excel 表格用法\n",
        "\n",
        "https://medium.com/@fsflyingsoar/%E7%AD%86%E8%A8%98-for-python-google-colab-gspread-a397e80d071d"
      ]
    },
    {
      "cell_type": "markdown",
      "metadata": {
        "id": "XItSG_PokVhV",
        "colab_type": "text"
      },
      "source": [
        "**List of mathematical symbols**\n",
        "\n",
        "https://en.wikipedia.org/wiki/List_of_mathematical_symbols"
      ]
    },
    {
      "cell_type": "markdown",
      "metadata": {
        "id": "FbyQCMWUUyDv",
        "colab_type": "text"
      },
      "source": [
        "**顏色代碼名稱：**\n",
        "\n",
        "https://htmlcolorcodes.com/zh/yanse-ming/"
      ]
    },
    {
      "cell_type": "markdown",
      "metadata": {
        "colab_type": "text",
        "id": "fT03y1Ckfede"
      },
      "source": [
        "## **Read a file from my Google Drive**"
      ]
    },
    {
      "cell_type": "code",
      "metadata": {
        "colab_type": "code",
        "id": "gw07ID9Bfedg",
        "colab": {}
      },
      "source": [
        "import os\n",
        "from IPython.display import Image"
      ],
      "execution_count": 0,
      "outputs": []
    },
    {
      "cell_type": "code",
      "metadata": {
        "colab_type": "code",
        "id": "BPY1cg7wfedi",
        "colab": {}
      },
      "source": [
        "# Read file from Google Drive\n",
        "\n",
        "from google.colab import drive\n",
        "drive.mount('/content/gdrive')"
      ],
      "execution_count": 0,
      "outputs": []
    },
    {
      "cell_type": "code",
      "metadata": {
        "id": "XeQBgE34eMLf",
        "colab_type": "code",
        "colab": {}
      },
      "source": [
        "# set the datafile path\n",
        "\n",
        "datafilepath = '/content/gdrive/My Drive/Colab Notebooks/2020MLCourse/'"
      ],
      "execution_count": 0,
      "outputs": []
    }
  ]
}